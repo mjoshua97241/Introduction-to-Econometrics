{
 "cells": [
  {
   "cell_type": "markdown",
   "id": "a993f37b-b054-45fa-829b-5b01afcbd949",
   "metadata": {},
   "source": [
    "# Chapter 1 - Computer Exercise"
   ]
  },
  {
   "cell_type": "code",
   "execution_count": 2,
   "id": "8129ae81-84a3-458d-93c6-e5eff915c840",
   "metadata": {},
   "outputs": [],
   "source": [
    "import wooldridge\n",
    "import pandas as pd\n",
    "import numpy as np"
   ]
  },
  {
   "cell_type": "code",
   "execution_count": 3,
   "id": "b980e51c-6660-4cee-a8f4-d3629be5cdc4",
   "metadata": {
    "scrolled": true
   },
   "outputs": [
    {
     "name": "stdout",
     "output_type": "stream",
     "text": [
      "  J.M. Wooldridge (2019) Introductory Econometrics: A Modern Approach,\n",
      "  Cengage Learning, 6th edition.\n",
      "\n",
      "  401k       401ksubs    admnrev       affairs     airfare\n",
      "  alcohol    apple       approval      athlet1     athlet2\n",
      "  attend     audit       barium        beauty      benefits\n",
      "  beveridge  big9salary  bwght         bwght2      campus\n",
      "  card       catholic    cement        census2000  ceosal1\n",
      "  ceosal2    charity     consump       corn        countymurders\n",
      "  cps78_85   cps91       crime1        crime2      crime3\n",
      "  crime4     discrim     driving       earns       econmath\n",
      "  elem94_95  engin       expendshares  ezanders    ezunem\n",
      "  fair       fertil1     fertil2       fertil3     fish\n",
      "  fringe     gpa1        gpa2          gpa3        happiness\n",
      "  hprice1    hprice2     hprice3       hseinv      htv\n",
      "  infmrt     injury      intdef        intqrt      inven\n",
      "  jtrain     jtrain2     jtrain3       kielmc      lawsch85\n",
      "  loanapp    lowbrth     mathpnl       meap00_01   meap01\n",
      "  meap93     meapsingle  minwage       mlb1        mroz\n",
      "  murder     nbasal      nyse          okun        openness\n",
      "  pension    phillips    pntsprd       prison      prminwge\n",
      "  rdchem     rdtelec     recid         rental      return\n",
      "  saving     sleep75     slp75_81      smoke       traffic1\n",
      "  traffic2   twoyear     volat         vote1       vote2\n",
      "  voucher    wage1       wage2         wagepan     wageprc\n",
      "  wine\n"
     ]
    }
   ],
   "source": [
    "wooldridge.data()"
   ]
  },
  {
   "cell_type": "markdown",
   "id": "a8bd17f5-c9ab-4288-b800-57602ac6c639",
   "metadata": {},
   "source": [
    "## C1\n",
    "\n",
    "Use the data in WAGE1 for this exercise."
   ]
  },
  {
   "cell_type": "code",
   "execution_count": 5,
   "id": "8f36c1fa-0b06-42f5-88d3-7425b8b86e99",
   "metadata": {},
   "outputs": [
    {
     "data": {
      "text/html": [
       "<div>\n",
       "<style scoped>\n",
       "    .dataframe tbody tr th:only-of-type {\n",
       "        vertical-align: middle;\n",
       "    }\n",
       "\n",
       "    .dataframe tbody tr th {\n",
       "        vertical-align: top;\n",
       "    }\n",
       "\n",
       "    .dataframe thead th {\n",
       "        text-align: right;\n",
       "    }\n",
       "</style>\n",
       "<table border=\"1\" class=\"dataframe\">\n",
       "  <thead>\n",
       "    <tr style=\"text-align: right;\">\n",
       "      <th></th>\n",
       "      <th>wage</th>\n",
       "      <th>educ</th>\n",
       "      <th>exper</th>\n",
       "      <th>tenure</th>\n",
       "      <th>nonwhite</th>\n",
       "      <th>female</th>\n",
       "      <th>married</th>\n",
       "      <th>numdep</th>\n",
       "      <th>smsa</th>\n",
       "      <th>northcen</th>\n",
       "      <th>...</th>\n",
       "      <th>trcommpu</th>\n",
       "      <th>trade</th>\n",
       "      <th>services</th>\n",
       "      <th>profserv</th>\n",
       "      <th>profocc</th>\n",
       "      <th>clerocc</th>\n",
       "      <th>servocc</th>\n",
       "      <th>lwage</th>\n",
       "      <th>expersq</th>\n",
       "      <th>tenursq</th>\n",
       "    </tr>\n",
       "  </thead>\n",
       "  <tbody>\n",
       "    <tr>\n",
       "      <th>0</th>\n",
       "      <td>3.10</td>\n",
       "      <td>11</td>\n",
       "      <td>2</td>\n",
       "      <td>0</td>\n",
       "      <td>0</td>\n",
       "      <td>1</td>\n",
       "      <td>0</td>\n",
       "      <td>2</td>\n",
       "      <td>1</td>\n",
       "      <td>0</td>\n",
       "      <td>...</td>\n",
       "      <td>0</td>\n",
       "      <td>0</td>\n",
       "      <td>0</td>\n",
       "      <td>0</td>\n",
       "      <td>0</td>\n",
       "      <td>0</td>\n",
       "      <td>0</td>\n",
       "      <td>1.131402</td>\n",
       "      <td>4</td>\n",
       "      <td>0</td>\n",
       "    </tr>\n",
       "    <tr>\n",
       "      <th>1</th>\n",
       "      <td>3.24</td>\n",
       "      <td>12</td>\n",
       "      <td>22</td>\n",
       "      <td>2</td>\n",
       "      <td>0</td>\n",
       "      <td>1</td>\n",
       "      <td>1</td>\n",
       "      <td>3</td>\n",
       "      <td>1</td>\n",
       "      <td>0</td>\n",
       "      <td>...</td>\n",
       "      <td>0</td>\n",
       "      <td>0</td>\n",
       "      <td>1</td>\n",
       "      <td>0</td>\n",
       "      <td>0</td>\n",
       "      <td>0</td>\n",
       "      <td>1</td>\n",
       "      <td>1.175573</td>\n",
       "      <td>484</td>\n",
       "      <td>4</td>\n",
       "    </tr>\n",
       "    <tr>\n",
       "      <th>2</th>\n",
       "      <td>3.00</td>\n",
       "      <td>11</td>\n",
       "      <td>2</td>\n",
       "      <td>0</td>\n",
       "      <td>0</td>\n",
       "      <td>0</td>\n",
       "      <td>0</td>\n",
       "      <td>2</td>\n",
       "      <td>0</td>\n",
       "      <td>0</td>\n",
       "      <td>...</td>\n",
       "      <td>0</td>\n",
       "      <td>1</td>\n",
       "      <td>0</td>\n",
       "      <td>0</td>\n",
       "      <td>0</td>\n",
       "      <td>0</td>\n",
       "      <td>0</td>\n",
       "      <td>1.098612</td>\n",
       "      <td>4</td>\n",
       "      <td>0</td>\n",
       "    </tr>\n",
       "    <tr>\n",
       "      <th>3</th>\n",
       "      <td>6.00</td>\n",
       "      <td>8</td>\n",
       "      <td>44</td>\n",
       "      <td>28</td>\n",
       "      <td>0</td>\n",
       "      <td>0</td>\n",
       "      <td>1</td>\n",
       "      <td>0</td>\n",
       "      <td>1</td>\n",
       "      <td>0</td>\n",
       "      <td>...</td>\n",
       "      <td>0</td>\n",
       "      <td>0</td>\n",
       "      <td>0</td>\n",
       "      <td>0</td>\n",
       "      <td>0</td>\n",
       "      <td>1</td>\n",
       "      <td>0</td>\n",
       "      <td>1.791759</td>\n",
       "      <td>1936</td>\n",
       "      <td>784</td>\n",
       "    </tr>\n",
       "    <tr>\n",
       "      <th>4</th>\n",
       "      <td>5.30</td>\n",
       "      <td>12</td>\n",
       "      <td>7</td>\n",
       "      <td>2</td>\n",
       "      <td>0</td>\n",
       "      <td>0</td>\n",
       "      <td>1</td>\n",
       "      <td>1</td>\n",
       "      <td>0</td>\n",
       "      <td>0</td>\n",
       "      <td>...</td>\n",
       "      <td>0</td>\n",
       "      <td>0</td>\n",
       "      <td>0</td>\n",
       "      <td>0</td>\n",
       "      <td>0</td>\n",
       "      <td>0</td>\n",
       "      <td>0</td>\n",
       "      <td>1.667707</td>\n",
       "      <td>49</td>\n",
       "      <td>4</td>\n",
       "    </tr>\n",
       "  </tbody>\n",
       "</table>\n",
       "<p>5 rows × 24 columns</p>\n",
       "</div>"
      ],
      "text/plain": [
       "   wage  educ  exper  tenure  nonwhite  female  married  numdep  smsa  \\\n",
       "0  3.10    11      2       0         0       1        0       2     1   \n",
       "1  3.24    12     22       2         0       1        1       3     1   \n",
       "2  3.00    11      2       0         0       0        0       2     0   \n",
       "3  6.00     8     44      28         0       0        1       0     1   \n",
       "4  5.30    12      7       2         0       0        1       1     0   \n",
       "\n",
       "   northcen  ...  trcommpu  trade  services  profserv  profocc  clerocc  \\\n",
       "0         0  ...         0      0         0         0        0        0   \n",
       "1         0  ...         0      0         1         0        0        0   \n",
       "2         0  ...         0      1         0         0        0        0   \n",
       "3         0  ...         0      0         0         0        0        1   \n",
       "4         0  ...         0      0         0         0        0        0   \n",
       "\n",
       "   servocc     lwage  expersq  tenursq  \n",
       "0        0  1.131402        4        0  \n",
       "1        1  1.175573      484        4  \n",
       "2        0  1.098612        4        0  \n",
       "3        0  1.791759     1936      784  \n",
       "4        0  1.667707       49        4  \n",
       "\n",
       "[5 rows x 24 columns]"
      ]
     },
     "execution_count": 5,
     "metadata": {},
     "output_type": "execute_result"
    }
   ],
   "source": [
    "wage1 = wooldridge.data('wage1')\n",
    "wage1.head()"
   ]
  },
  {
   "cell_type": "markdown",
   "id": "7beee63c-c4ef-441e-b27d-b947c84689e7",
   "metadata": {
    "jp-MarkdownHeadingCollapsed": true
   },
   "source": [
    "### (i) Find the average education level in the sample. What are the lowest and highest years of education?"
   ]
  },
  {
   "cell_type": "code",
   "execution_count": 7,
   "id": "9b409861-da42-4b07-8f2c-d05414302430",
   "metadata": {},
   "outputs": [
    {
     "data": {
      "text/html": [
       "<div>\n",
       "<style scoped>\n",
       "    .dataframe tbody tr th:only-of-type {\n",
       "        vertical-align: middle;\n",
       "    }\n",
       "\n",
       "    .dataframe tbody tr th {\n",
       "        vertical-align: top;\n",
       "    }\n",
       "\n",
       "    .dataframe thead th {\n",
       "        text-align: right;\n",
       "    }\n",
       "</style>\n",
       "<table border=\"1\" class=\"dataframe\">\n",
       "  <thead>\n",
       "    <tr style=\"text-align: right;\">\n",
       "      <th></th>\n",
       "      <th>educ</th>\n",
       "    </tr>\n",
       "  </thead>\n",
       "  <tbody>\n",
       "    <tr>\n",
       "      <th>count</th>\n",
       "      <td>526.000000</td>\n",
       "    </tr>\n",
       "    <tr>\n",
       "      <th>mean</th>\n",
       "      <td>12.562738</td>\n",
       "    </tr>\n",
       "    <tr>\n",
       "      <th>std</th>\n",
       "      <td>2.769022</td>\n",
       "    </tr>\n",
       "    <tr>\n",
       "      <th>min</th>\n",
       "      <td>0.000000</td>\n",
       "    </tr>\n",
       "    <tr>\n",
       "      <th>25%</th>\n",
       "      <td>12.000000</td>\n",
       "    </tr>\n",
       "    <tr>\n",
       "      <th>50%</th>\n",
       "      <td>12.000000</td>\n",
       "    </tr>\n",
       "    <tr>\n",
       "      <th>75%</th>\n",
       "      <td>14.000000</td>\n",
       "    </tr>\n",
       "    <tr>\n",
       "      <th>max</th>\n",
       "      <td>18.000000</td>\n",
       "    </tr>\n",
       "  </tbody>\n",
       "</table>\n",
       "</div>"
      ],
      "text/plain": [
       "             educ\n",
       "count  526.000000\n",
       "mean    12.562738\n",
       "std      2.769022\n",
       "min      0.000000\n",
       "25%     12.000000\n",
       "50%     12.000000\n",
       "75%     14.000000\n",
       "max     18.000000"
      ]
     },
     "execution_count": 7,
     "metadata": {},
     "output_type": "execute_result"
    }
   ],
   "source": [
    "educ = wage1.copy()\n",
    "educ = educ[['educ']]\n",
    "educ.describe()"
   ]
  },
  {
   "cell_type": "markdown",
   "id": "b6eea417-0d81-4fd6-9804-1e2efb67899c",
   "metadata": {},
   "source": [
    "By using the describe method, we can see the statistics of the sample. The average education level in the sample is 12.56 years. For the lowest and highest years of education are 0 and 18, respectively."
   ]
  },
  {
   "cell_type": "markdown",
   "id": "ac936038-f277-4cb5-b352-08b20c73fc7b",
   "metadata": {
    "jp-MarkdownHeadingCollapsed": true
   },
   "source": [
    "### (ii) Find the average hourly wage in the sample. Does it seem high or low?"
   ]
  },
  {
   "cell_type": "code",
   "execution_count": 10,
   "id": "65556f14-f353-4b4b-b2d2-f3e645d8da3f",
   "metadata": {},
   "outputs": [],
   "source": [
    "hourly_wage = wage1.copy()\n",
    "hourly_wage = hourly_wage[['wage']]\n",
    "avg_hw = hourly_wage.mean()"
   ]
  },
  {
   "cell_type": "markdown",
   "id": "0bf5e018-7c72-4c94-a4c7-957040267f12",
   "metadata": {},
   "source": [
    "For me to draw conclusion, I would like to see the distribution of the sample. So let's create a histogram."
   ]
  },
  {
   "cell_type": "code",
   "execution_count": 12,
   "id": "130c00f0-e1f3-40f0-b474-c6b44b74d7b1",
   "metadata": {},
   "outputs": [],
   "source": [
    "import matplotlib.pyplot as plt"
   ]
  },
  {
   "cell_type": "code",
   "execution_count": 13,
   "id": "7867b00c-04a0-4a49-b261-f5e66d5b3197",
   "metadata": {},
   "outputs": [
    {
     "data": {
      "image/png": "[encoded data removed]",
      "text/plain": [
       "<Figure size 640x480 with 1 Axes>"
      ]
     },
     "metadata": {},
     "output_type": "display_data"
    }
   ],
   "source": [
    "plt.hist(hourly_wage, bins=10, density=True, alpha=0.6, color='b')\n",
    "plt.show()"
   ]
  },
  {
   "cell_type": "markdown",
   "id": "e4cbe345-6020-4808-9b6d-7579d4b1cdcf",
   "metadata": {},
   "source": [
    "According to the distribution of the data, when we have outliers the average hourly wage is low. But without these outliers, the hourly wage is normal (neither high or low). "
   ]
  },
  {
   "cell_type": "markdown",
   "id": "576af9a8-f55c-4dc1-a99e-a513dc8f29e8",
   "metadata": {
    "jp-MarkdownHeadingCollapsed": true
   },
   "source": [
    "### (iii) The wage data are reported in 1976 dollars. Using the Internet or a printed source, find the Consumer Price Index (CPI) for the years 1976 and 2013."
   ]
  },
  {
   "cell_type": "markdown",
   "id": "61388597-0b74-4d2e-9530-a56d338d654b",
   "metadata": {},
   "source": [
    "The CPI for 1976 was 56.9, while in 2013, 233."
   ]
  },
  {
   "cell_type": "markdown",
   "id": "583a5122-6809-4360-b521-1fd4199cd03b",
   "metadata": {
    "jp-MarkdownHeadingCollapsed": true
   },
   "source": [
    "### (iv) Use the CPI values from part (iii) to find the average hourly wage in 2013 dollars. Now does the average hourly wage seem reasonable?"
   ]
  },
  {
   "cell_type": "markdown",
   "id": "be45dcc7-57ed-4739-a8b2-4bc81318fea3",
   "metadata": {},
   "source": [
    "Formula: Real Hourly Rate = (Nominal Hourly Wage / CPI for 2013) x 100"
   ]
  },
  {
   "cell_type": "code",
   "execution_count": 19,
   "id": "f96b41c2-f810-42a3-bb18-36633a5bd464",
   "metadata": {},
   "outputs": [
    {
     "data": {
      "text/plain": [
       "wage    2.530516\n",
       "dtype: float64"
      ]
     },
     "execution_count": 19,
     "metadata": {},
     "output_type": "execute_result"
    }
   ],
   "source": [
    "cpi_1976 = 56.9\n",
    "cpi_2013 = 233\n",
    "\n",
    "usd_2013 = (avg_hw / cpi_2013) * 100\n",
    "usd_2013"
   ]
  },
  {
   "cell_type": "markdown",
   "id": "bdf8ede4-10f0-4832-b5d4-999580166c2d",
   "metadata": {},
   "source": [
    "Based on the calculation using 2013 dollars, the average hourly wage doesn't seem reasonable. The value of dollars decreases and so does the average hourly wage."
   ]
  },
  {
   "cell_type": "markdown",
   "id": "9180126f-d54e-461b-bda0-518aca5c46c5",
   "metadata": {
    "jp-MarkdownHeadingCollapsed": true
   },
   "source": [
    "### (v) How many women are in the sample? How many men?"
   ]
  },
  {
   "cell_type": "code",
   "execution_count": 22,
   "id": "cb84e8be-2bc0-4ead-89f3-e969f4888039",
   "metadata": {},
   "outputs": [],
   "source": [
    "gender = wage1.copy()"
   ]
  },
  {
   "cell_type": "code",
   "execution_count": 23,
   "id": "d4573c61-428f-435b-9725-f1005d3d0126",
   "metadata": {},
   "outputs": [
    {
     "data": {
      "text/plain": [
       "wage        252\n",
       "educ        252\n",
       "exper       252\n",
       "tenure      252\n",
       "nonwhite    252\n",
       "female      252\n",
       "married     252\n",
       "numdep      252\n",
       "smsa        252\n",
       "northcen    252\n",
       "south       252\n",
       "west        252\n",
       "construc    252\n",
       "ndurman     252\n",
       "trcommpu    252\n",
       "trade       252\n",
       "services    252\n",
       "profserv    252\n",
       "profocc     252\n",
       "clerocc     252\n",
       "servocc     252\n",
       "lwage       252\n",
       "expersq     252\n",
       "tenursq     252\n",
       "dtype: int64"
      ]
     },
     "execution_count": 23,
     "metadata": {},
     "output_type": "execute_result"
    }
   ],
   "source": [
    "# female = 1\n",
    "female = gender[gender['female'] == 1]\n",
    "female.count()"
   ]
  },
  {
   "cell_type": "code",
   "execution_count": 24,
   "id": "02fac7a3-5577-42e0-9980-7f9695a3f688",
   "metadata": {},
   "outputs": [
    {
     "data": {
      "text/plain": [
       "wage        274\n",
       "educ        274\n",
       "exper       274\n",
       "tenure      274\n",
       "nonwhite    274\n",
       "female      274\n",
       "married     274\n",
       "numdep      274\n",
       "smsa        274\n",
       "northcen    274\n",
       "south       274\n",
       "west        274\n",
       "construc    274\n",
       "ndurman     274\n",
       "trcommpu    274\n",
       "trade       274\n",
       "services    274\n",
       "profserv    274\n",
       "profocc     274\n",
       "clerocc     274\n",
       "servocc     274\n",
       "lwage       274\n",
       "expersq     274\n",
       "tenursq     274\n",
       "dtype: int64"
      ]
     },
     "execution_count": 24,
     "metadata": {},
     "output_type": "execute_result"
    }
   ],
   "source": [
    "# male = 0\n",
    "male = gender[gender['female'] == 0]\n",
    "male.count()"
   ]
  },
  {
   "cell_type": "markdown",
   "id": "73eade86-843f-42ad-bbbf-d456bff07026",
   "metadata": {},
   "source": [
    "There are 252 women and 274 men in the given sample."
   ]
  },
  {
   "cell_type": "markdown",
   "id": "758f0b0c-c150-4938-be7c-92ceea7d12b3",
   "metadata": {},
   "source": [
    "## C2\n",
    "\n",
    "Use the data in BWGHT to answer this question."
   ]
  },
  {
   "cell_type": "code",
   "execution_count": 37,
   "id": "1dd80174-2e3a-4892-9d88-6b6729f52251",
   "metadata": {},
   "outputs": [
    {
     "data": {
      "text/html": [
       "<div>\n",
       "<style scoped>\n",
       "    .dataframe tbody tr th:only-of-type {\n",
       "        vertical-align: middle;\n",
       "    }\n",
       "\n",
       "    .dataframe tbody tr th {\n",
       "        vertical-align: top;\n",
       "    }\n",
       "\n",
       "    .dataframe thead th {\n",
       "        text-align: right;\n",
       "    }\n",
       "</style>\n",
       "<table border=\"1\" class=\"dataframe\">\n",
       "  <thead>\n",
       "    <tr style=\"text-align: right;\">\n",
       "      <th></th>\n",
       "      <th>faminc</th>\n",
       "      <th>cigtax</th>\n",
       "      <th>cigprice</th>\n",
       "      <th>bwght</th>\n",
       "      <th>fatheduc</th>\n",
       "      <th>motheduc</th>\n",
       "      <th>parity</th>\n",
       "      <th>male</th>\n",
       "      <th>white</th>\n",
       "      <th>cigs</th>\n",
       "      <th>lbwght</th>\n",
       "      <th>bwghtlbs</th>\n",
       "      <th>packs</th>\n",
       "      <th>lfaminc</th>\n",
       "    </tr>\n",
       "  </thead>\n",
       "  <tbody>\n",
       "    <tr>\n",
       "      <th>0</th>\n",
       "      <td>13.5</td>\n",
       "      <td>16.5</td>\n",
       "      <td>122.300003</td>\n",
       "      <td>109</td>\n",
       "      <td>12.0</td>\n",
       "      <td>12.0</td>\n",
       "      <td>1</td>\n",
       "      <td>1</td>\n",
       "      <td>1</td>\n",
       "      <td>0</td>\n",
       "      <td>4.691348</td>\n",
       "      <td>6.8125</td>\n",
       "      <td>0.0</td>\n",
       "      <td>2.602690</td>\n",
       "    </tr>\n",
       "    <tr>\n",
       "      <th>1</th>\n",
       "      <td>7.5</td>\n",
       "      <td>16.5</td>\n",
       "      <td>122.300003</td>\n",
       "      <td>133</td>\n",
       "      <td>6.0</td>\n",
       "      <td>12.0</td>\n",
       "      <td>2</td>\n",
       "      <td>1</td>\n",
       "      <td>0</td>\n",
       "      <td>0</td>\n",
       "      <td>4.890349</td>\n",
       "      <td>8.3125</td>\n",
       "      <td>0.0</td>\n",
       "      <td>2.014903</td>\n",
       "    </tr>\n",
       "    <tr>\n",
       "      <th>2</th>\n",
       "      <td>0.5</td>\n",
       "      <td>16.5</td>\n",
       "      <td>122.300003</td>\n",
       "      <td>129</td>\n",
       "      <td>NaN</td>\n",
       "      <td>12.0</td>\n",
       "      <td>2</td>\n",
       "      <td>0</td>\n",
       "      <td>0</td>\n",
       "      <td>0</td>\n",
       "      <td>4.859812</td>\n",
       "      <td>8.0625</td>\n",
       "      <td>0.0</td>\n",
       "      <td>-0.693147</td>\n",
       "    </tr>\n",
       "    <tr>\n",
       "      <th>3</th>\n",
       "      <td>15.5</td>\n",
       "      <td>16.5</td>\n",
       "      <td>122.300003</td>\n",
       "      <td>126</td>\n",
       "      <td>12.0</td>\n",
       "      <td>12.0</td>\n",
       "      <td>2</td>\n",
       "      <td>1</td>\n",
       "      <td>0</td>\n",
       "      <td>0</td>\n",
       "      <td>4.836282</td>\n",
       "      <td>7.8750</td>\n",
       "      <td>0.0</td>\n",
       "      <td>2.740840</td>\n",
       "    </tr>\n",
       "    <tr>\n",
       "      <th>4</th>\n",
       "      <td>27.5</td>\n",
       "      <td>16.5</td>\n",
       "      <td>122.300003</td>\n",
       "      <td>134</td>\n",
       "      <td>14.0</td>\n",
       "      <td>12.0</td>\n",
       "      <td>2</td>\n",
       "      <td>1</td>\n",
       "      <td>1</td>\n",
       "      <td>0</td>\n",
       "      <td>4.897840</td>\n",
       "      <td>8.3750</td>\n",
       "      <td>0.0</td>\n",
       "      <td>3.314186</td>\n",
       "    </tr>\n",
       "    <tr>\n",
       "      <th>5</th>\n",
       "      <td>7.5</td>\n",
       "      <td>16.5</td>\n",
       "      <td>122.300003</td>\n",
       "      <td>118</td>\n",
       "      <td>12.0</td>\n",
       "      <td>14.0</td>\n",
       "      <td>6</td>\n",
       "      <td>1</td>\n",
       "      <td>0</td>\n",
       "      <td>0</td>\n",
       "      <td>4.770685</td>\n",
       "      <td>7.3750</td>\n",
       "      <td>0.0</td>\n",
       "      <td>2.014903</td>\n",
       "    </tr>\n",
       "    <tr>\n",
       "      <th>6</th>\n",
       "      <td>65.0</td>\n",
       "      <td>16.5</td>\n",
       "      <td>122.300003</td>\n",
       "      <td>140</td>\n",
       "      <td>16.0</td>\n",
       "      <td>14.0</td>\n",
       "      <td>2</td>\n",
       "      <td>0</td>\n",
       "      <td>1</td>\n",
       "      <td>0</td>\n",
       "      <td>4.941642</td>\n",
       "      <td>8.7500</td>\n",
       "      <td>0.0</td>\n",
       "      <td>4.174387</td>\n",
       "    </tr>\n",
       "    <tr>\n",
       "      <th>7</th>\n",
       "      <td>27.5</td>\n",
       "      <td>16.5</td>\n",
       "      <td>122.300003</td>\n",
       "      <td>86</td>\n",
       "      <td>12.0</td>\n",
       "      <td>14.0</td>\n",
       "      <td>2</td>\n",
       "      <td>0</td>\n",
       "      <td>0</td>\n",
       "      <td>0</td>\n",
       "      <td>4.454347</td>\n",
       "      <td>5.3750</td>\n",
       "      <td>0.0</td>\n",
       "      <td>3.314186</td>\n",
       "    </tr>\n",
       "    <tr>\n",
       "      <th>8</th>\n",
       "      <td>27.5</td>\n",
       "      <td>16.5</td>\n",
       "      <td>122.300003</td>\n",
       "      <td>121</td>\n",
       "      <td>12.0</td>\n",
       "      <td>17.0</td>\n",
       "      <td>2</td>\n",
       "      <td>0</td>\n",
       "      <td>1</td>\n",
       "      <td>0</td>\n",
       "      <td>4.795791</td>\n",
       "      <td>7.5625</td>\n",
       "      <td>0.0</td>\n",
       "      <td>3.314186</td>\n",
       "    </tr>\n",
       "    <tr>\n",
       "      <th>9</th>\n",
       "      <td>37.5</td>\n",
       "      <td>16.5</td>\n",
       "      <td>122.300003</td>\n",
       "      <td>129</td>\n",
       "      <td>16.0</td>\n",
       "      <td>18.0</td>\n",
       "      <td>2</td>\n",
       "      <td>0</td>\n",
       "      <td>1</td>\n",
       "      <td>0</td>\n",
       "      <td>4.859812</td>\n",
       "      <td>8.0625</td>\n",
       "      <td>0.0</td>\n",
       "      <td>3.624341</td>\n",
       "    </tr>\n",
       "  </tbody>\n",
       "</table>\n",
       "</div>"
      ],
      "text/plain": [
       "   faminc  cigtax    cigprice  bwght  fatheduc  motheduc  parity  male  white  \\\n",
       "0    13.5    16.5  122.300003    109      12.0      12.0       1     1      1   \n",
       "1     7.5    16.5  122.300003    133       6.0      12.0       2     1      0   \n",
       "2     0.5    16.5  122.300003    129       NaN      12.0       2     0      0   \n",
       "3    15.5    16.5  122.300003    126      12.0      12.0       2     1      0   \n",
       "4    27.5    16.5  122.300003    134      14.0      12.0       2     1      1   \n",
       "5     7.5    16.5  122.300003    118      12.0      14.0       6     1      0   \n",
       "6    65.0    16.5  122.300003    140      16.0      14.0       2     0      1   \n",
       "7    27.5    16.5  122.300003     86      12.0      14.0       2     0      0   \n",
       "8    27.5    16.5  122.300003    121      12.0      17.0       2     0      1   \n",
       "9    37.5    16.5  122.300003    129      16.0      18.0       2     0      1   \n",
       "\n",
       "   cigs    lbwght  bwghtlbs  packs   lfaminc  \n",
       "0     0  4.691348    6.8125    0.0  2.602690  \n",
       "1     0  4.890349    8.3125    0.0  2.014903  \n",
       "2     0  4.859812    8.0625    0.0 -0.693147  \n",
       "3     0  4.836282    7.8750    0.0  2.740840  \n",
       "4     0  4.897840    8.3750    0.0  3.314186  \n",
       "5     0  4.770685    7.3750    0.0  2.014903  \n",
       "6     0  4.941642    8.7500    0.0  4.174387  \n",
       "7     0  4.454347    5.3750    0.0  3.314186  \n",
       "8     0  4.795791    7.5625    0.0  3.314186  \n",
       "9     0  4.859812    8.0625    0.0  3.624341  "
      ]
     },
     "execution_count": 37,
     "metadata": {},
     "output_type": "execute_result"
    }
   ],
   "source": [
    "bwght = wooldridge.data('bwght')\n",
    "bwght.head(10)"
   ]
  },
  {
   "cell_type": "markdown",
   "id": "471e8cf8-c5d1-4cfc-a221-e936a65f6e7e",
   "metadata": {
    "jp-MarkdownHeadingCollapsed": true
   },
   "source": [
    "### (i) How many women are in the sample, and how many report smoking during pregnancy?"
   ]
  },
  {
   "cell_type": "code",
   "execution_count": 97,
   "id": "39d133fc-509c-47ca-a002-7c30451c16fa",
   "metadata": {},
   "outputs": [
    {
     "name": "stdout",
     "output_type": "stream",
     "text": [
      "<class 'pandas.core.frame.DataFrame'>\n",
      "RangeIndex: 1388 entries, 0 to 1387\n",
      "Data columns (total 14 columns):\n",
      " #   Column    Non-Null Count  Dtype  \n",
      "---  ------    --------------  -----  \n",
      " 0   faminc    1388 non-null   float64\n",
      " 1   cigtax    1388 non-null   float64\n",
      " 2   cigprice  1388 non-null   float64\n",
      " 3   bwght     1388 non-null   int64  \n",
      " 4   fatheduc  1192 non-null   float64\n",
      " 5   motheduc  1387 non-null   float64\n",
      " 6   parity    1388 non-null   int64  \n",
      " 7   male      1388 non-null   int64  \n",
      " 8   white     1388 non-null   int64  \n",
      " 9   cigs      1388 non-null   int64  \n",
      " 10  lbwght    1388 non-null   float64\n",
      " 11  bwghtlbs  1388 non-null   float64\n",
      " 12  packs     1388 non-null   float64\n",
      " 13  lfaminc   1388 non-null   float64\n",
      "dtypes: float64(9), int64(5)\n",
      "memory usage: 151.9 KB\n"
     ]
    }
   ],
   "source": [
    "data = bwght.copy()\n",
    "tot_women = data\n",
    "tot_women.info()"
   ]
  },
  {
   "cell_type": "markdown",
   "id": "40e9344b-b5f3-420a-aeeb-ec5f5bdd09d9",
   "metadata": {},
   "source": [
    "There are **1388** women in the sample."
   ]
  },
  {
   "cell_type": "code",
   "execution_count": 100,
   "id": "3ecfcc19-887f-4952-86d2-1e32b505eaa2",
   "metadata": {},
   "outputs": [
    {
     "data": {
      "text/plain": [
       "faminc      212\n",
       "cigtax      212\n",
       "cigprice    212\n",
       "bwght       212\n",
       "fatheduc    161\n",
       "motheduc    212\n",
       "parity      212\n",
       "male        212\n",
       "white       212\n",
       "cigs        212\n",
       "lbwght      212\n",
       "bwghtlbs    212\n",
       "packs       212\n",
       "lfaminc     212\n",
       "dtype: int64"
      ]
     },
     "execution_count": 100,
     "metadata": {},
     "output_type": "execute_result"
    }
   ],
   "source": [
    "cigs = data[data['cigs'] != 0]\n",
    "cigs.count()"
   ]
  },
  {
   "cell_type": "markdown",
   "id": "be2e8b0b-e521-438f-817d-f4904145c009",
   "metadata": {},
   "source": [
    "There are **212** women reported smoking during pregnancy out of 1388. "
   ]
  },
  {
   "cell_type": "markdown",
   "id": "410728c5-bac5-4e66-bd40-76c31c410c35",
   "metadata": {
    "jp-MarkdownHeadingCollapsed": true
   },
   "source": [
    "### (ii) What is the average number of cigarettes smoked per day? Is the average a good measure of the “typical” woman in this case? Explain."
   ]
  },
  {
   "cell_type": "code",
   "execution_count": 109,
   "id": "028d345a-dc15-4f53-9f65-83f4fa616747",
   "metadata": {},
   "outputs": [
    {
     "data": {
      "text/html": [
       "<div>\n",
       "<style scoped>\n",
       "    .dataframe tbody tr th:only-of-type {\n",
       "        vertical-align: middle;\n",
       "    }\n",
       "\n",
       "    .dataframe tbody tr th {\n",
       "        vertical-align: top;\n",
       "    }\n",
       "\n",
       "    .dataframe thead th {\n",
       "        text-align: right;\n",
       "    }\n",
       "</style>\n",
       "<table border=\"1\" class=\"dataframe\">\n",
       "  <thead>\n",
       "    <tr style=\"text-align: right;\">\n",
       "      <th></th>\n",
       "      <th>cigs</th>\n",
       "    </tr>\n",
       "  </thead>\n",
       "  <tbody>\n",
       "    <tr>\n",
       "      <th>count</th>\n",
       "      <td>1388.000000</td>\n",
       "    </tr>\n",
       "    <tr>\n",
       "      <th>mean</th>\n",
       "      <td>2.087176</td>\n",
       "    </tr>\n",
       "    <tr>\n",
       "      <th>std</th>\n",
       "      <td>5.972688</td>\n",
       "    </tr>\n",
       "    <tr>\n",
       "      <th>min</th>\n",
       "      <td>0.000000</td>\n",
       "    </tr>\n",
       "    <tr>\n",
       "      <th>25%</th>\n",
       "      <td>0.000000</td>\n",
       "    </tr>\n",
       "    <tr>\n",
       "      <th>50%</th>\n",
       "      <td>0.000000</td>\n",
       "    </tr>\n",
       "    <tr>\n",
       "      <th>75%</th>\n",
       "      <td>0.000000</td>\n",
       "    </tr>\n",
       "    <tr>\n",
       "      <th>max</th>\n",
       "      <td>50.000000</td>\n",
       "    </tr>\n",
       "  </tbody>\n",
       "</table>\n",
       "</div>"
      ],
      "text/plain": [
       "              cigs\n",
       "count  1388.000000\n",
       "mean      2.087176\n",
       "std       5.972688\n",
       "min       0.000000\n",
       "25%       0.000000\n",
       "50%       0.000000\n",
       "75%       0.000000\n",
       "max      50.000000"
      ]
     },
     "execution_count": 109,
     "metadata": {},
     "output_type": "execute_result"
    }
   ],
   "source": [
    "stats = data[['cigs']]\n",
    "stats.describe()"
   ]
  },
  {
   "cell_type": "markdown",
   "id": "471814e7-6ea5-4506-838d-0e10d1857b6b",
   "metadata": {},
   "source": [
    "The average number of cigarettes smoked per day is around 2.08. The average is not a good measure of the \"typical\" women in this case because it can be affected by outliers. The median is a good measure of \"typical\" woman."
   ]
  },
  {
   "cell_type": "markdown",
   "id": "fd8c716d-19ca-4a00-b04c-4eb7c85dda4d",
   "metadata": {},
   "source": [
    "### (iii) Among women who smoked during pregnancy, what is the average number of cigarettes smoked per day? How does this compare with your answer from part (ii), and why?"
   ]
  },
  {
   "cell_type": "code",
   "execution_count": 127,
   "id": "d05fd397-e6b2-4531-be8f-640fd1dfa253",
   "metadata": {},
   "outputs": [],
   "source": [
    "# remove women that are smoking and not in pregnancy"
   ]
  },
  {
   "cell_type": "markdown",
   "id": "a0cf39ff-1540-4645-b185-c53f30a1cbd5",
   "metadata": {},
   "source": [
    "### (iv) Find the average of fatheduc in the sample. Why are only 1,192 observations used to compute this average?"
   ]
  },
  {
   "cell_type": "code",
   "execution_count": null,
   "id": "dbc88efb-5a95-468f-b871-72356d9ef377",
   "metadata": {},
   "outputs": [],
   "source": []
  },
  {
   "cell_type": "markdown",
   "id": "ef8fdca8-8aea-42af-b86f-2a460f9d548b",
   "metadata": {},
   "source": [
    "### (v) Report the average family income and its standard deviation in dollars."
   ]
  },
  {
   "cell_type": "code",
   "execution_count": null,
   "id": "39d8b339-121d-416d-b5df-4db97284dd88",
   "metadata": {},
   "outputs": [],
   "source": []
  }
 ],
 "metadata": {
  "kernelspec": {
   "display_name": "Python 3 (ipykernel)",
   "language": "python",
   "name": "python3"
  },
  "language_info": {
   "codemirror_mode": {
    "name": "ipython",
    "version": 3
   },
   "file_extension": ".py",
   "mimetype": "text/x-python",
   "name": "python",
   "nbconvert_exporter": "python",
   "pygments_lexer": "ipython3",
   "version": "3.12.3"
  }
 },
 "nbformat": 4,
 "nbformat_minor": 5
}
