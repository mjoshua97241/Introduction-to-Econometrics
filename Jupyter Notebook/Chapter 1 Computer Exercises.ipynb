{
 "cells": [
  {
   "cell_type": "markdown",
   "id": "a993f37b-b054-45fa-829b-5b01afcbd949",
   "metadata": {},
   "source": [
    "# Chapter 1 - Computer Exercise"
   ]
  },
  {
   "cell_type": "code",
   "execution_count": 18,
   "id": "8129ae81-84a3-458d-93c6-e5eff915c840",
   "metadata": {},
   "outputs": [],
   "source": [
    "import wooldridge\n",
    "import pandas as pd\n",
    "import numpy as np"
   ]
  },
  {
   "cell_type": "markdown",
   "id": "3e3e9331-3c28-4229-963f-7b49eaccc2e6",
   "metadata": {},
   "source": [
    "### Data Exploration"
   ]
  },
  {
   "cell_type": "code",
   "execution_count": 20,
   "id": "b980e51c-6660-4cee-a8f4-d3629be5cdc4",
   "metadata": {
    "scrolled": true
   },
   "outputs": [
    {
     "name": "stdout",
     "output_type": "stream",
     "text": [
      "  J.M. Wooldridge (2019) Introductory Econometrics: A Modern Approach,\n",
      "  Cengage Learning, 6th edition.\n",
      "\n",
      "  401k       401ksubs    admnrev       affairs     airfare\n",
      "  alcohol    apple       approval      athlet1     athlet2\n",
      "  attend     audit       barium        beauty      benefits\n",
      "  beveridge  big9salary  bwght         bwght2      campus\n",
      "  card       catholic    cement        census2000  ceosal1\n",
      "  ceosal2    charity     consump       corn        countymurders\n",
      "  cps78_85   cps91       crime1        crime2      crime3\n",
      "  crime4     discrim     driving       earns       econmath\n",
      "  elem94_95  engin       expendshares  ezanders    ezunem\n",
      "  fair       fertil1     fertil2       fertil3     fish\n",
      "  fringe     gpa1        gpa2          gpa3        happiness\n",
      "  hprice1    hprice2     hprice3       hseinv      htv\n",
      "  infmrt     injury      intdef        intqrt      inven\n",
      "  jtrain     jtrain2     jtrain3       kielmc      lawsch85\n",
      "  loanapp    lowbrth     mathpnl       meap00_01   meap01\n",
      "  meap93     meapsingle  minwage       mlb1        mroz\n",
      "  murder     nbasal      nyse          okun        openness\n",
      "  pension    phillips    pntsprd       prison      prminwge\n",
      "  rdchem     rdtelec     recid         rental      return\n",
      "  saving     sleep75     slp75_81      smoke       traffic1\n",
      "  traffic2   twoyear     volat         vote1       vote2\n",
      "  voucher    wage1       wage2         wagepan     wageprc\n",
      "  wine\n"
     ]
    }
   ],
   "source": [
    "wooldridge.data()"
   ]
  },
  {
   "cell_type": "markdown",
   "id": "a8bd17f5-c9ab-4288-b800-57602ac6c639",
   "metadata": {
    "jp-MarkdownHeadingCollapsed": true
   },
   "source": [
    "## C1\n",
    "\n",
    "Use the data in WAGE1 for this exercise."
   ]
  },
  {
   "cell_type": "code",
   "execution_count": 22,
   "id": "8f36c1fa-0b06-42f5-88d3-7425b8b86e99",
   "metadata": {},
   "outputs": [
    {
     "data": {
      "text/html": [
       "<div>\n",
       "<style scoped>\n",
       "    .dataframe tbody tr th:only-of-type {\n",
       "        vertical-align: middle;\n",
       "    }\n",
       "\n",
       "    .dataframe tbody tr th {\n",
       "        vertical-align: top;\n",
       "    }\n",
       "\n",
       "    .dataframe thead th {\n",
       "        text-align: right;\n",
       "    }\n",
       "</style>\n",
       "<table border=\"1\" class=\"dataframe\">\n",
       "  <thead>\n",
       "    <tr style=\"text-align: right;\">\n",
       "      <th></th>\n",
       "      <th>wage</th>\n",
       "      <th>educ</th>\n",
       "      <th>exper</th>\n",
       "      <th>tenure</th>\n",
       "      <th>nonwhite</th>\n",
       "      <th>female</th>\n",
       "      <th>married</th>\n",
       "      <th>numdep</th>\n",
       "      <th>smsa</th>\n",
       "      <th>northcen</th>\n",
       "      <th>...</th>\n",
       "      <th>trcommpu</th>\n",
       "      <th>trade</th>\n",
       "      <th>services</th>\n",
       "      <th>profserv</th>\n",
       "      <th>profocc</th>\n",
       "      <th>clerocc</th>\n",
       "      <th>servocc</th>\n",
       "      <th>lwage</th>\n",
       "      <th>expersq</th>\n",
       "      <th>tenursq</th>\n",
       "    </tr>\n",
       "  </thead>\n",
       "  <tbody>\n",
       "    <tr>\n",
       "      <th>0</th>\n",
       "      <td>3.10</td>\n",
       "      <td>11</td>\n",
       "      <td>2</td>\n",
       "      <td>0</td>\n",
       "      <td>0</td>\n",
       "      <td>1</td>\n",
       "      <td>0</td>\n",
       "      <td>2</td>\n",
       "      <td>1</td>\n",
       "      <td>0</td>\n",
       "      <td>...</td>\n",
       "      <td>0</td>\n",
       "      <td>0</td>\n",
       "      <td>0</td>\n",
       "      <td>0</td>\n",
       "      <td>0</td>\n",
       "      <td>0</td>\n",
       "      <td>0</td>\n",
       "      <td>1.131402</td>\n",
       "      <td>4</td>\n",
       "      <td>0</td>\n",
       "    </tr>\n",
       "    <tr>\n",
       "      <th>1</th>\n",
       "      <td>3.24</td>\n",
       "      <td>12</td>\n",
       "      <td>22</td>\n",
       "      <td>2</td>\n",
       "      <td>0</td>\n",
       "      <td>1</td>\n",
       "      <td>1</td>\n",
       "      <td>3</td>\n",
       "      <td>1</td>\n",
       "      <td>0</td>\n",
       "      <td>...</td>\n",
       "      <td>0</td>\n",
       "      <td>0</td>\n",
       "      <td>1</td>\n",
       "      <td>0</td>\n",
       "      <td>0</td>\n",
       "      <td>0</td>\n",
       "      <td>1</td>\n",
       "      <td>1.175573</td>\n",
       "      <td>484</td>\n",
       "      <td>4</td>\n",
       "    </tr>\n",
       "    <tr>\n",
       "      <th>2</th>\n",
       "      <td>3.00</td>\n",
       "      <td>11</td>\n",
       "      <td>2</td>\n",
       "      <td>0</td>\n",
       "      <td>0</td>\n",
       "      <td>0</td>\n",
       "      <td>0</td>\n",
       "      <td>2</td>\n",
       "      <td>0</td>\n",
       "      <td>0</td>\n",
       "      <td>...</td>\n",
       "      <td>0</td>\n",
       "      <td>1</td>\n",
       "      <td>0</td>\n",
       "      <td>0</td>\n",
       "      <td>0</td>\n",
       "      <td>0</td>\n",
       "      <td>0</td>\n",
       "      <td>1.098612</td>\n",
       "      <td>4</td>\n",
       "      <td>0</td>\n",
       "    </tr>\n",
       "    <tr>\n",
       "      <th>3</th>\n",
       "      <td>6.00</td>\n",
       "      <td>8</td>\n",
       "      <td>44</td>\n",
       "      <td>28</td>\n",
       "      <td>0</td>\n",
       "      <td>0</td>\n",
       "      <td>1</td>\n",
       "      <td>0</td>\n",
       "      <td>1</td>\n",
       "      <td>0</td>\n",
       "      <td>...</td>\n",
       "      <td>0</td>\n",
       "      <td>0</td>\n",
       "      <td>0</td>\n",
       "      <td>0</td>\n",
       "      <td>0</td>\n",
       "      <td>1</td>\n",
       "      <td>0</td>\n",
       "      <td>1.791759</td>\n",
       "      <td>1936</td>\n",
       "      <td>784</td>\n",
       "    </tr>\n",
       "    <tr>\n",
       "      <th>4</th>\n",
       "      <td>5.30</td>\n",
       "      <td>12</td>\n",
       "      <td>7</td>\n",
       "      <td>2</td>\n",
       "      <td>0</td>\n",
       "      <td>0</td>\n",
       "      <td>1</td>\n",
       "      <td>1</td>\n",
       "      <td>0</td>\n",
       "      <td>0</td>\n",
       "      <td>...</td>\n",
       "      <td>0</td>\n",
       "      <td>0</td>\n",
       "      <td>0</td>\n",
       "      <td>0</td>\n",
       "      <td>0</td>\n",
       "      <td>0</td>\n",
       "      <td>0</td>\n",
       "      <td>1.667707</td>\n",
       "      <td>49</td>\n",
       "      <td>4</td>\n",
       "    </tr>\n",
       "  </tbody>\n",
       "</table>\n",
       "<p>5 rows × 24 columns</p>\n",
       "</div>"
      ],
      "text/plain": [
       "   wage  educ  exper  tenure  nonwhite  female  married  numdep  smsa  \\\n",
       "0  3.10    11      2       0         0       1        0       2     1   \n",
       "1  3.24    12     22       2         0       1        1       3     1   \n",
       "2  3.00    11      2       0         0       0        0       2     0   \n",
       "3  6.00     8     44      28         0       0        1       0     1   \n",
       "4  5.30    12      7       2         0       0        1       1     0   \n",
       "\n",
       "   northcen  ...  trcommpu  trade  services  profserv  profocc  clerocc  \\\n",
       "0         0  ...         0      0         0         0        0        0   \n",
       "1         0  ...         0      0         1         0        0        0   \n",
       "2         0  ...         0      1         0         0        0        0   \n",
       "3         0  ...         0      0         0         0        0        1   \n",
       "4         0  ...         0      0         0         0        0        0   \n",
       "\n",
       "   servocc     lwage  expersq  tenursq  \n",
       "0        0  1.131402        4        0  \n",
       "1        1  1.175573      484        4  \n",
       "2        0  1.098612        4        0  \n",
       "3        0  1.791759     1936      784  \n",
       "4        0  1.667707       49        4  \n",
       "\n",
       "[5 rows x 24 columns]"
      ]
     },
     "execution_count": 22,
     "metadata": {},
     "output_type": "execute_result"
    }
   ],
   "source": [
    "wage1 = wooldridge.data('wage1')\n",
    "wage1.head()"
   ]
  },
  {
   "cell_type": "markdown",
   "id": "7beee63c-c4ef-441e-b27d-b947c84689e7",
   "metadata": {
    "jp-MarkdownHeadingCollapsed": true
   },
   "source": [
    "### (i) \n",
    "Find the average education level in the sample. What are the lowest and highest years of education?"
   ]
  },
  {
   "cell_type": "code",
   "execution_count": 24,
   "id": "9b409861-da42-4b07-8f2c-d05414302430",
   "metadata": {},
   "outputs": [
    {
     "data": {
      "text/html": [
       "<div>\n",
       "<style scoped>\n",
       "    .dataframe tbody tr th:only-of-type {\n",
       "        vertical-align: middle;\n",
       "    }\n",
       "\n",
       "    .dataframe tbody tr th {\n",
       "        vertical-align: top;\n",
       "    }\n",
       "\n",
       "    .dataframe thead th {\n",
       "        text-align: right;\n",
       "    }\n",
       "</style>\n",
       "<table border=\"1\" class=\"dataframe\">\n",
       "  <thead>\n",
       "    <tr style=\"text-align: right;\">\n",
       "      <th></th>\n",
       "      <th>educ</th>\n",
       "    </tr>\n",
       "  </thead>\n",
       "  <tbody>\n",
       "    <tr>\n",
       "      <th>count</th>\n",
       "      <td>526.000000</td>\n",
       "    </tr>\n",
       "    <tr>\n",
       "      <th>mean</th>\n",
       "      <td>12.562738</td>\n",
       "    </tr>\n",
       "    <tr>\n",
       "      <th>std</th>\n",
       "      <td>2.769022</td>\n",
       "    </tr>\n",
       "    <tr>\n",
       "      <th>min</th>\n",
       "      <td>0.000000</td>\n",
       "    </tr>\n",
       "    <tr>\n",
       "      <th>25%</th>\n",
       "      <td>12.000000</td>\n",
       "    </tr>\n",
       "    <tr>\n",
       "      <th>50%</th>\n",
       "      <td>12.000000</td>\n",
       "    </tr>\n",
       "    <tr>\n",
       "      <th>75%</th>\n",
       "      <td>14.000000</td>\n",
       "    </tr>\n",
       "    <tr>\n",
       "      <th>max</th>\n",
       "      <td>18.000000</td>\n",
       "    </tr>\n",
       "  </tbody>\n",
       "</table>\n",
       "</div>"
      ],
      "text/plain": [
       "             educ\n",
       "count  526.000000\n",
       "mean    12.562738\n",
       "std      2.769022\n",
       "min      0.000000\n",
       "25%     12.000000\n",
       "50%     12.000000\n",
       "75%     14.000000\n",
       "max     18.000000"
      ]
     },
     "execution_count": 24,
     "metadata": {},
     "output_type": "execute_result"
    }
   ],
   "source": [
    "educ = wage1.copy()\n",
    "educ = educ[['educ']]\n",
    "educ.describe()"
   ]
  },
  {
   "cell_type": "markdown",
   "id": "b6eea417-0d81-4fd6-9804-1e2efb67899c",
   "metadata": {},
   "source": [
    "By using the describe method, we can see the statistics of the sample. The average education level in the sample is 12.56 years. For the lowest and highest years of education are 0 and 18, respectively."
   ]
  },
  {
   "cell_type": "markdown",
   "id": "ac936038-f277-4cb5-b352-08b20c73fc7b",
   "metadata": {
    "jp-MarkdownHeadingCollapsed": true
   },
   "source": [
    "### (ii) \n",
    "Find the average hourly wage in the sample. Does it seem high or low?"
   ]
  },
  {
   "cell_type": "code",
   "execution_count": 27,
   "id": "65556f14-f353-4b4b-b2d2-f3e645d8da3f",
   "metadata": {},
   "outputs": [
    {
     "data": {
      "text/plain": [
       "5.9"
      ]
     },
     "execution_count": 27,
     "metadata": {},
     "output_type": "execute_result"
    }
   ],
   "source": [
    "hourly_wage = wage1.copy()\n",
    "hourly_wage = hourly_wage[['wage']]\n",
    "avg_hw = np.round(np.mean(hourly_wage), 2)\n",
    "avg_hw"
   ]
  },
  {
   "cell_type": "markdown",
   "id": "0bf5e018-7c72-4c94-a4c7-957040267f12",
   "metadata": {},
   "source": [
    "For me to draw conclusion, I would like to see the distribution of the sample. So let's create a histogram."
   ]
  },
  {
   "cell_type": "code",
   "execution_count": 29,
   "id": "130c00f0-e1f3-40f0-b474-c6b44b74d7b1",
   "metadata": {},
   "outputs": [],
   "source": [
    "import matplotlib.pyplot as plt"
   ]
  },
  {
   "cell_type": "code",
   "execution_count": 30,
   "id": "7867b00c-04a0-4a49-b261-f5e66d5b3197",
   "metadata": {},
   "outputs": [
    {
     "data": {
      "image/png": "[encoded data removed]",
      "text/plain": [
       "<Figure size 640x480 with 1 Axes>"
      ]
     },
     "metadata": {},
     "output_type": "display_data"
    }
   ],
   "source": [
    "plt.hist(hourly_wage, bins=10, density=True, alpha=0.6, color='b')\n",
    "plt.show()"
   ]
  },
  {
   "cell_type": "markdown",
   "id": "e4cbe345-6020-4808-9b6d-7579d4b1cdcf",
   "metadata": {},
   "source": [
    "According to the distribution of the data, when we have outliers the average hourly wage is low. But without these outliers, the hourly wage is normal (neither high or low). "
   ]
  },
  {
   "cell_type": "markdown",
   "id": "576af9a8-f55c-4dc1-a99e-a513dc8f29e8",
   "metadata": {
    "jp-MarkdownHeadingCollapsed": true
   },
   "source": [
    "### (iii) \n",
    "The wage data are reported in 1976 dollars. Using the Internet or a printed source, find the Consumer Price Index (CPI) for the years 1976 and 2013."
   ]
  },
  {
   "cell_type": "markdown",
   "id": "61388597-0b74-4d2e-9530-a56d338d654b",
   "metadata": {},
   "source": [
    "The CPI for 1976 was 56.9, while in 2013, 233."
   ]
  },
  {
   "cell_type": "markdown",
   "id": "583a5122-6809-4360-b521-1fd4199cd03b",
   "metadata": {
    "jp-MarkdownHeadingCollapsed": true
   },
   "source": [
    "### (iv) \n",
    "Use the CPI values from part (iii) to find the average hourly wage in 2013 dollars. Now does the average hourly wage seem reasonable?"
   ]
  },
  {
   "cell_type": "markdown",
   "id": "be45dcc7-57ed-4739-a8b2-4bc81318fea3",
   "metadata": {},
   "source": [
    "Formula: Real Hourly Rate = (Nominal Hourly Wage / CPI for 2013) x 100"
   ]
  },
  {
   "cell_type": "code",
   "execution_count": 36,
   "id": "f96b41c2-f810-42a3-bb18-36633a5bd464",
   "metadata": {},
   "outputs": [
    {
     "data": {
      "text/plain": [
       "2.532188841201717"
      ]
     },
     "execution_count": 36,
     "metadata": {},
     "output_type": "execute_result"
    }
   ],
   "source": [
    "cpi_1976 = 56.9\n",
    "cpi_2013 = 233\n",
    "\n",
    "usd_2013 = (avg_hw / cpi_2013) * 100\n",
    "usd_2013"
   ]
  },
  {
   "cell_type": "markdown",
   "id": "bdf8ede4-10f0-4832-b5d4-999580166c2d",
   "metadata": {},
   "source": [
    "Based on the calculation using 2013 dollars, the average hourly wage doesn't seem reasonable. The value of dollars decreases and so does the average hourly wage."
   ]
  },
  {
   "cell_type": "markdown",
   "id": "9180126f-d54e-461b-bda0-518aca5c46c5",
   "metadata": {
    "jp-MarkdownHeadingCollapsed": true
   },
   "source": [
    "### (v) \n",
    "How many women are in the sample? How many men?"
   ]
  },
  {
   "cell_type": "code",
   "execution_count": 39,
   "id": "cb84e8be-2bc0-4ead-89f3-e969f4888039",
   "metadata": {},
   "outputs": [],
   "source": [
    "gender = wage1.copy()"
   ]
  },
  {
   "cell_type": "code",
   "execution_count": 40,
   "id": "d4573c61-428f-435b-9725-f1005d3d0126",
   "metadata": {},
   "outputs": [
    {
     "data": {
      "text/plain": [
       "wage        252\n",
       "educ        252\n",
       "exper       252\n",
       "tenure      252\n",
       "nonwhite    252\n",
       "female      252\n",
       "married     252\n",
       "numdep      252\n",
       "smsa        252\n",
       "northcen    252\n",
       "south       252\n",
       "west        252\n",
       "construc    252\n",
       "ndurman     252\n",
       "trcommpu    252\n",
       "trade       252\n",
       "services    252\n",
       "profserv    252\n",
       "profocc     252\n",
       "clerocc     252\n",
       "servocc     252\n",
       "lwage       252\n",
       "expersq     252\n",
       "tenursq     252\n",
       "dtype: int64"
      ]
     },
     "execution_count": 40,
     "metadata": {},
     "output_type": "execute_result"
    }
   ],
   "source": [
    "# female = 1\n",
    "female = gender[gender['female'] == 1]\n",
    "female.count()"
   ]
  },
  {
   "cell_type": "code",
   "execution_count": 41,
   "id": "02fac7a3-5577-42e0-9980-7f9695a3f688",
   "metadata": {},
   "outputs": [
    {
     "data": {
      "text/plain": [
       "wage        274\n",
       "educ        274\n",
       "exper       274\n",
       "tenure      274\n",
       "nonwhite    274\n",
       "female      274\n",
       "married     274\n",
       "numdep      274\n",
       "smsa        274\n",
       "northcen    274\n",
       "south       274\n",
       "west        274\n",
       "construc    274\n",
       "ndurman     274\n",
       "trcommpu    274\n",
       "trade       274\n",
       "services    274\n",
       "profserv    274\n",
       "profocc     274\n",
       "clerocc     274\n",
       "servocc     274\n",
       "lwage       274\n",
       "expersq     274\n",
       "tenursq     274\n",
       "dtype: int64"
      ]
     },
     "execution_count": 41,
     "metadata": {},
     "output_type": "execute_result"
    }
   ],
   "source": [
    "# male = 0\n",
    "male = gender[gender['female'] == 0]\n",
    "male.count()"
   ]
  },
  {
   "cell_type": "markdown",
   "id": "73eade86-843f-42ad-bbbf-d456bff07026",
   "metadata": {},
   "source": [
    "There are 252 women and 274 men in the given sample."
   ]
  },
  {
   "cell_type": "markdown",
   "id": "758f0b0c-c150-4938-be7c-92ceea7d12b3",
   "metadata": {
    "jp-MarkdownHeadingCollapsed": true
   },
   "source": [
    "## C2\n",
    "\n",
    "Use the data in BWGHT to answer this question."
   ]
  },
  {
   "cell_type": "code",
   "execution_count": 44,
   "id": "1dd80174-2e3a-4892-9d88-6b6729f52251",
   "metadata": {},
   "outputs": [
    {
     "data": {
      "text/html": [
       "<div>\n",
       "<style scoped>\n",
       "    .dataframe tbody tr th:only-of-type {\n",
       "        vertical-align: middle;\n",
       "    }\n",
       "\n",
       "    .dataframe tbody tr th {\n",
       "        vertical-align: top;\n",
       "    }\n",
       "\n",
       "    .dataframe thead th {\n",
       "        text-align: right;\n",
       "    }\n",
       "</style>\n",
       "<table border=\"1\" class=\"dataframe\">\n",
       "  <thead>\n",
       "    <tr style=\"text-align: right;\">\n",
       "      <th></th>\n",
       "      <th>faminc</th>\n",
       "      <th>cigtax</th>\n",
       "      <th>cigprice</th>\n",
       "      <th>bwght</th>\n",
       "      <th>fatheduc</th>\n",
       "      <th>motheduc</th>\n",
       "      <th>parity</th>\n",
       "      <th>male</th>\n",
       "      <th>white</th>\n",
       "      <th>cigs</th>\n",
       "      <th>lbwght</th>\n",
       "      <th>bwghtlbs</th>\n",
       "      <th>packs</th>\n",
       "      <th>lfaminc</th>\n",
       "    </tr>\n",
       "  </thead>\n",
       "  <tbody>\n",
       "    <tr>\n",
       "      <th>0</th>\n",
       "      <td>13.5</td>\n",
       "      <td>16.5</td>\n",
       "      <td>122.300003</td>\n",
       "      <td>109</td>\n",
       "      <td>12.0</td>\n",
       "      <td>12.0</td>\n",
       "      <td>1</td>\n",
       "      <td>1</td>\n",
       "      <td>1</td>\n",
       "      <td>0</td>\n",
       "      <td>4.691348</td>\n",
       "      <td>6.8125</td>\n",
       "      <td>0.0</td>\n",
       "      <td>2.602690</td>\n",
       "    </tr>\n",
       "    <tr>\n",
       "      <th>1</th>\n",
       "      <td>7.5</td>\n",
       "      <td>16.5</td>\n",
       "      <td>122.300003</td>\n",
       "      <td>133</td>\n",
       "      <td>6.0</td>\n",
       "      <td>12.0</td>\n",
       "      <td>2</td>\n",
       "      <td>1</td>\n",
       "      <td>0</td>\n",
       "      <td>0</td>\n",
       "      <td>4.890349</td>\n",
       "      <td>8.3125</td>\n",
       "      <td>0.0</td>\n",
       "      <td>2.014903</td>\n",
       "    </tr>\n",
       "    <tr>\n",
       "      <th>2</th>\n",
       "      <td>0.5</td>\n",
       "      <td>16.5</td>\n",
       "      <td>122.300003</td>\n",
       "      <td>129</td>\n",
       "      <td>NaN</td>\n",
       "      <td>12.0</td>\n",
       "      <td>2</td>\n",
       "      <td>0</td>\n",
       "      <td>0</td>\n",
       "      <td>0</td>\n",
       "      <td>4.859812</td>\n",
       "      <td>8.0625</td>\n",
       "      <td>0.0</td>\n",
       "      <td>-0.693147</td>\n",
       "    </tr>\n",
       "    <tr>\n",
       "      <th>3</th>\n",
       "      <td>15.5</td>\n",
       "      <td>16.5</td>\n",
       "      <td>122.300003</td>\n",
       "      <td>126</td>\n",
       "      <td>12.0</td>\n",
       "      <td>12.0</td>\n",
       "      <td>2</td>\n",
       "      <td>1</td>\n",
       "      <td>0</td>\n",
       "      <td>0</td>\n",
       "      <td>4.836282</td>\n",
       "      <td>7.8750</td>\n",
       "      <td>0.0</td>\n",
       "      <td>2.740840</td>\n",
       "    </tr>\n",
       "    <tr>\n",
       "      <th>4</th>\n",
       "      <td>27.5</td>\n",
       "      <td>16.5</td>\n",
       "      <td>122.300003</td>\n",
       "      <td>134</td>\n",
       "      <td>14.0</td>\n",
       "      <td>12.0</td>\n",
       "      <td>2</td>\n",
       "      <td>1</td>\n",
       "      <td>1</td>\n",
       "      <td>0</td>\n",
       "      <td>4.897840</td>\n",
       "      <td>8.3750</td>\n",
       "      <td>0.0</td>\n",
       "      <td>3.314186</td>\n",
       "    </tr>\n",
       "    <tr>\n",
       "      <th>5</th>\n",
       "      <td>7.5</td>\n",
       "      <td>16.5</td>\n",
       "      <td>122.300003</td>\n",
       "      <td>118</td>\n",
       "      <td>12.0</td>\n",
       "      <td>14.0</td>\n",
       "      <td>6</td>\n",
       "      <td>1</td>\n",
       "      <td>0</td>\n",
       "      <td>0</td>\n",
       "      <td>4.770685</td>\n",
       "      <td>7.3750</td>\n",
       "      <td>0.0</td>\n",
       "      <td>2.014903</td>\n",
       "    </tr>\n",
       "    <tr>\n",
       "      <th>6</th>\n",
       "      <td>65.0</td>\n",
       "      <td>16.5</td>\n",
       "      <td>122.300003</td>\n",
       "      <td>140</td>\n",
       "      <td>16.0</td>\n",
       "      <td>14.0</td>\n",
       "      <td>2</td>\n",
       "      <td>0</td>\n",
       "      <td>1</td>\n",
       "      <td>0</td>\n",
       "      <td>4.941642</td>\n",
       "      <td>8.7500</td>\n",
       "      <td>0.0</td>\n",
       "      <td>4.174387</td>\n",
       "    </tr>\n",
       "    <tr>\n",
       "      <th>7</th>\n",
       "      <td>27.5</td>\n",
       "      <td>16.5</td>\n",
       "      <td>122.300003</td>\n",
       "      <td>86</td>\n",
       "      <td>12.0</td>\n",
       "      <td>14.0</td>\n",
       "      <td>2</td>\n",
       "      <td>0</td>\n",
       "      <td>0</td>\n",
       "      <td>0</td>\n",
       "      <td>4.454347</td>\n",
       "      <td>5.3750</td>\n",
       "      <td>0.0</td>\n",
       "      <td>3.314186</td>\n",
       "    </tr>\n",
       "    <tr>\n",
       "      <th>8</th>\n",
       "      <td>27.5</td>\n",
       "      <td>16.5</td>\n",
       "      <td>122.300003</td>\n",
       "      <td>121</td>\n",
       "      <td>12.0</td>\n",
       "      <td>17.0</td>\n",
       "      <td>2</td>\n",
       "      <td>0</td>\n",
       "      <td>1</td>\n",
       "      <td>0</td>\n",
       "      <td>4.795791</td>\n",
       "      <td>7.5625</td>\n",
       "      <td>0.0</td>\n",
       "      <td>3.314186</td>\n",
       "    </tr>\n",
       "    <tr>\n",
       "      <th>9</th>\n",
       "      <td>37.5</td>\n",
       "      <td>16.5</td>\n",
       "      <td>122.300003</td>\n",
       "      <td>129</td>\n",
       "      <td>16.0</td>\n",
       "      <td>18.0</td>\n",
       "      <td>2</td>\n",
       "      <td>0</td>\n",
       "      <td>1</td>\n",
       "      <td>0</td>\n",
       "      <td>4.859812</td>\n",
       "      <td>8.0625</td>\n",
       "      <td>0.0</td>\n",
       "      <td>3.624341</td>\n",
       "    </tr>\n",
       "  </tbody>\n",
       "</table>\n",
       "</div>"
      ],
      "text/plain": [
       "   faminc  cigtax    cigprice  bwght  fatheduc  motheduc  parity  male  white  \\\n",
       "0    13.5    16.5  122.300003    109      12.0      12.0       1     1      1   \n",
       "1     7.5    16.5  122.300003    133       6.0      12.0       2     1      0   \n",
       "2     0.5    16.5  122.300003    129       NaN      12.0       2     0      0   \n",
       "3    15.5    16.5  122.300003    126      12.0      12.0       2     1      0   \n",
       "4    27.5    16.5  122.300003    134      14.0      12.0       2     1      1   \n",
       "5     7.5    16.5  122.300003    118      12.0      14.0       6     1      0   \n",
       "6    65.0    16.5  122.300003    140      16.0      14.0       2     0      1   \n",
       "7    27.5    16.5  122.300003     86      12.0      14.0       2     0      0   \n",
       "8    27.5    16.5  122.300003    121      12.0      17.0       2     0      1   \n",
       "9    37.5    16.5  122.300003    129      16.0      18.0       2     0      1   \n",
       "\n",
       "   cigs    lbwght  bwghtlbs  packs   lfaminc  \n",
       "0     0  4.691348    6.8125    0.0  2.602690  \n",
       "1     0  4.890349    8.3125    0.0  2.014903  \n",
       "2     0  4.859812    8.0625    0.0 -0.693147  \n",
       "3     0  4.836282    7.8750    0.0  2.740840  \n",
       "4     0  4.897840    8.3750    0.0  3.314186  \n",
       "5     0  4.770685    7.3750    0.0  2.014903  \n",
       "6     0  4.941642    8.7500    0.0  4.174387  \n",
       "7     0  4.454347    5.3750    0.0  3.314186  \n",
       "8     0  4.795791    7.5625    0.0  3.314186  \n",
       "9     0  4.859812    8.0625    0.0  3.624341  "
      ]
     },
     "execution_count": 44,
     "metadata": {},
     "output_type": "execute_result"
    }
   ],
   "source": [
    "bwght = wooldridge.data('bwght')\n",
    "bwght.head(10)"
   ]
  },
  {
   "cell_type": "markdown",
   "id": "471e8cf8-c5d1-4cfc-a221-e936a65f6e7e",
   "metadata": {
    "jp-MarkdownHeadingCollapsed": true
   },
   "source": [
    "### (i) \n",
    "How many women are in the sample, and how many report smoking during pregnancy?"
   ]
  },
  {
   "cell_type": "code",
   "execution_count": 46,
   "id": "39d133fc-509c-47ca-a002-7c30451c16fa",
   "metadata": {},
   "outputs": [
    {
     "name": "stdout",
     "output_type": "stream",
     "text": [
      "<class 'pandas.core.frame.DataFrame'>\n",
      "RangeIndex: 1388 entries, 0 to 1387\n",
      "Data columns (total 14 columns):\n",
      " #   Column    Non-Null Count  Dtype  \n",
      "---  ------    --------------  -----  \n",
      " 0   faminc    1388 non-null   float64\n",
      " 1   cigtax    1388 non-null   float64\n",
      " 2   cigprice  1388 non-null   float64\n",
      " 3   bwght     1388 non-null   int64  \n",
      " 4   fatheduc  1192 non-null   float64\n",
      " 5   motheduc  1387 non-null   float64\n",
      " 6   parity    1388 non-null   int64  \n",
      " 7   male      1388 non-null   int64  \n",
      " 8   white     1388 non-null   int64  \n",
      " 9   cigs      1388 non-null   int64  \n",
      " 10  lbwght    1388 non-null   float64\n",
      " 11  bwghtlbs  1388 non-null   float64\n",
      " 12  packs     1388 non-null   float64\n",
      " 13  lfaminc   1388 non-null   float64\n",
      "dtypes: float64(9), int64(5)\n",
      "memory usage: 151.9 KB\n"
     ]
    }
   ],
   "source": [
    "data = bwght.copy()\n",
    "tot_women = data\n",
    "tot_women.info()"
   ]
  },
  {
   "cell_type": "markdown",
   "id": "40e9344b-b5f3-420a-aeeb-ec5f5bdd09d9",
   "metadata": {},
   "source": [
    "There are **1388** women in the sample."
   ]
  },
  {
   "cell_type": "code",
   "execution_count": 48,
   "id": "3ecfcc19-887f-4952-86d2-1e32b505eaa2",
   "metadata": {},
   "outputs": [
    {
     "data": {
      "text/plain": [
       "faminc      212\n",
       "cigtax      212\n",
       "cigprice    212\n",
       "bwght       212\n",
       "fatheduc    161\n",
       "motheduc    212\n",
       "parity      212\n",
       "male        212\n",
       "white       212\n",
       "cigs        212\n",
       "lbwght      212\n",
       "bwghtlbs    212\n",
       "packs       212\n",
       "lfaminc     212\n",
       "dtype: int64"
      ]
     },
     "execution_count": 48,
     "metadata": {},
     "output_type": "execute_result"
    }
   ],
   "source": [
    "cigs = data[data['cigs'] != 0]\n",
    "cigs.count()"
   ]
  },
  {
   "cell_type": "markdown",
   "id": "be2e8b0b-e521-438f-817d-f4904145c009",
   "metadata": {},
   "source": [
    "There are **212** women reported smoking during pregnancy out of 1388. "
   ]
  },
  {
   "cell_type": "markdown",
   "id": "410728c5-bac5-4e66-bd40-76c31c410c35",
   "metadata": {},
   "source": [
    "### (ii) \n",
    "What is the average number of cigarettes smoked per day? Is the average a good measure of the “typical” woman in this case? Explain."
   ]
  },
  {
   "cell_type": "code",
   "execution_count": 51,
   "id": "028d345a-dc15-4f53-9f65-83f4fa616747",
   "metadata": {},
   "outputs": [
    {
     "data": {
      "text/html": [
       "<div>\n",
       "<style scoped>\n",
       "    .dataframe tbody tr th:only-of-type {\n",
       "        vertical-align: middle;\n",
       "    }\n",
       "\n",
       "    .dataframe tbody tr th {\n",
       "        vertical-align: top;\n",
       "    }\n",
       "\n",
       "    .dataframe thead th {\n",
       "        text-align: right;\n",
       "    }\n",
       "</style>\n",
       "<table border=\"1\" class=\"dataframe\">\n",
       "  <thead>\n",
       "    <tr style=\"text-align: right;\">\n",
       "      <th></th>\n",
       "      <th>cigs</th>\n",
       "    </tr>\n",
       "  </thead>\n",
       "  <tbody>\n",
       "    <tr>\n",
       "      <th>count</th>\n",
       "      <td>1388.000000</td>\n",
       "    </tr>\n",
       "    <tr>\n",
       "      <th>mean</th>\n",
       "      <td>2.087176</td>\n",
       "    </tr>\n",
       "    <tr>\n",
       "      <th>std</th>\n",
       "      <td>5.972688</td>\n",
       "    </tr>\n",
       "    <tr>\n",
       "      <th>min</th>\n",
       "      <td>0.000000</td>\n",
       "    </tr>\n",
       "    <tr>\n",
       "      <th>25%</th>\n",
       "      <td>0.000000</td>\n",
       "    </tr>\n",
       "    <tr>\n",
       "      <th>50%</th>\n",
       "      <td>0.000000</td>\n",
       "    </tr>\n",
       "    <tr>\n",
       "      <th>75%</th>\n",
       "      <td>0.000000</td>\n",
       "    </tr>\n",
       "    <tr>\n",
       "      <th>max</th>\n",
       "      <td>50.000000</td>\n",
       "    </tr>\n",
       "  </tbody>\n",
       "</table>\n",
       "</div>"
      ],
      "text/plain": [
       "              cigs\n",
       "count  1388.000000\n",
       "mean      2.087176\n",
       "std       5.972688\n",
       "min       0.000000\n",
       "25%       0.000000\n",
       "50%       0.000000\n",
       "75%       0.000000\n",
       "max      50.000000"
      ]
     },
     "execution_count": 51,
     "metadata": {},
     "output_type": "execute_result"
    }
   ],
   "source": [
    "stats = data[['cigs']]\n",
    "stats.describe()"
   ]
  },
  {
   "cell_type": "markdown",
   "id": "471814e7-6ea5-4506-838d-0e10d1857b6b",
   "metadata": {},
   "source": [
    "The average of _cigs_ is about 2.09, but this includes the 1,176 women who did not smoke. Reporting just the average masks the fact that almost 85 percent of the women did not smoke. It makes more sense to say that the \"typical\" women does not smoke during pregnancy; indeed, the median number of cigarettes smoked is zero."
   ]
  },
  {
   "cell_type": "markdown",
   "id": "fd8c716d-19ca-4a00-b04c-4eb7c85dda4d",
   "metadata": {
    "jp-MarkdownHeadingCollapsed": true
   },
   "source": [
    "### (iii) \n",
    "Among women who smoked during pregnancy, what is the average number of cigarettes smoked per day? How does this compare with your answer from part (ii), and why?"
   ]
  },
  {
   "cell_type": "code",
   "execution_count": 54,
   "id": "d05fd397-e6b2-4531-be8f-640fd1dfa253",
   "metadata": {},
   "outputs": [
    {
     "data": {
      "text/plain": [
       "count    212.000000\n",
       "mean      13.665094\n",
       "std        8.690907\n",
       "min        1.000000\n",
       "25%        8.000000\n",
       "50%       10.000000\n",
       "75%       20.000000\n",
       "max       50.000000\n",
       "Name: cigs, dtype: float64"
      ]
     },
     "execution_count": 54,
     "metadata": {},
     "output_type": "execute_result"
    }
   ],
   "source": [
    "women_data = bwght.copy()\n",
    "\n",
    "# remove women that are smoking and NOT in pregnancy\n",
    "smoke_preg = women_data[women_data['cigs'] != 0]\n",
    "smoke_preg['cigs'].describe()"
   ]
  },
  {
   "cell_type": "markdown",
   "id": "8c86c1c2-4a00-4991-9fab-1e2733bc0aaf",
   "metadata": {},
   "source": [
    "The mean of women who smoked during pregnancy is higher than the part 2. It is because that the part 2 includes, the women who are not smoking during pregnancy, which is the 85% of the total sample."
   ]
  },
  {
   "cell_type": "markdown",
   "id": "a0cf39ff-1540-4645-b185-c53f30a1cbd5",
   "metadata": {
    "jp-MarkdownHeadingCollapsed": true
   },
   "source": [
    "### (iv) \n",
    "Find the average of fatheduc in the sample. Why are only 1,192 observations used to compute this average?"
   ]
  },
  {
   "cell_type": "code",
   "execution_count": 57,
   "id": "dbc88efb-5a95-468f-b871-72356d9ef377",
   "metadata": {},
   "outputs": [
    {
     "data": {
      "text/html": [
       "<div>\n",
       "<style scoped>\n",
       "    .dataframe tbody tr th:only-of-type {\n",
       "        vertical-align: middle;\n",
       "    }\n",
       "\n",
       "    .dataframe tbody tr th {\n",
       "        vertical-align: top;\n",
       "    }\n",
       "\n",
       "    .dataframe thead th {\n",
       "        text-align: right;\n",
       "    }\n",
       "</style>\n",
       "<table border=\"1\" class=\"dataframe\">\n",
       "  <thead>\n",
       "    <tr style=\"text-align: right;\">\n",
       "      <th></th>\n",
       "      <th>fatheduc</th>\n",
       "    </tr>\n",
       "  </thead>\n",
       "  <tbody>\n",
       "    <tr>\n",
       "      <th>count</th>\n",
       "      <td>1192.000000</td>\n",
       "    </tr>\n",
       "    <tr>\n",
       "      <th>mean</th>\n",
       "      <td>13.186242</td>\n",
       "    </tr>\n",
       "    <tr>\n",
       "      <th>std</th>\n",
       "      <td>2.745985</td>\n",
       "    </tr>\n",
       "    <tr>\n",
       "      <th>min</th>\n",
       "      <td>1.000000</td>\n",
       "    </tr>\n",
       "    <tr>\n",
       "      <th>25%</th>\n",
       "      <td>12.000000</td>\n",
       "    </tr>\n",
       "    <tr>\n",
       "      <th>50%</th>\n",
       "      <td>12.000000</td>\n",
       "    </tr>\n",
       "    <tr>\n",
       "      <th>75%</th>\n",
       "      <td>16.000000</td>\n",
       "    </tr>\n",
       "    <tr>\n",
       "      <th>max</th>\n",
       "      <td>18.000000</td>\n",
       "    </tr>\n",
       "  </tbody>\n",
       "</table>\n",
       "</div>"
      ],
      "text/plain": [
       "          fatheduc\n",
       "count  1192.000000\n",
       "mean     13.186242\n",
       "std       2.745985\n",
       "min       1.000000\n",
       "25%      12.000000\n",
       "50%      12.000000\n",
       "75%      16.000000\n",
       "max      18.000000"
      ]
     },
     "execution_count": 57,
     "metadata": {},
     "output_type": "execute_result"
    }
   ],
   "source": [
    "fath = bwght.copy()\n",
    "fatheduc = fath[['fatheduc']]\n",
    "fatheduc.describe()"
   ]
  },
  {
   "cell_type": "markdown",
   "id": "b240d3d5-fb81-40d9-872b-84eb1042ff38",
   "metadata": {},
   "source": [
    "To find why there are only 1192 out of 1388, we will print the unique values in the 'fatheduc' column."
   ]
  },
  {
   "cell_type": "code",
   "execution_count": 59,
   "id": "646d889a-1d9b-4960-8dbf-c9fe7f55e319",
   "metadata": {},
   "outputs": [
    {
     "data": {
      "text/plain": [
       "array([12.,  6., nan, 14., 16.,  7., 13., 18.,  8., 11.,  5., 10., 15.,\n",
       "        3., 17.,  9.,  4.,  2.,  1.])"
      ]
     },
     "execution_count": 59,
     "metadata": {},
     "output_type": "execute_result"
    }
   ],
   "source": [
    "fatheduc['fatheduc'].unique()"
   ]
  },
  {
   "cell_type": "markdown",
   "id": "da794e53-f8a1-482f-9ce0-4b0522fd8a74",
   "metadata": {},
   "source": [
    "The reason why there are only 1192 observations used to compute the average is because there are rows that are missing values designated by 'nan'."
   ]
  },
  {
   "cell_type": "markdown",
   "id": "ef8fdca8-8aea-42af-b86f-2a460f9d548b",
   "metadata": {},
   "source": [
    "### (v) \n",
    "Report the average family income and its standard deviation in dollars."
   ]
  },
  {
   "cell_type": "code",
   "execution_count": 62,
   "id": "39d8b339-121d-416d-b5df-4db97284dd88",
   "metadata": {},
   "outputs": [
    {
     "data": {
      "text/html": [
       "<div>\n",
       "<style scoped>\n",
       "    .dataframe tbody tr th:only-of-type {\n",
       "        vertical-align: middle;\n",
       "    }\n",
       "\n",
       "    .dataframe tbody tr th {\n",
       "        vertical-align: top;\n",
       "    }\n",
       "\n",
       "    .dataframe thead th {\n",
       "        text-align: right;\n",
       "    }\n",
       "</style>\n",
       "<table border=\"1\" class=\"dataframe\">\n",
       "  <thead>\n",
       "    <tr style=\"text-align: right;\">\n",
       "      <th></th>\n",
       "      <th>faminc</th>\n",
       "    </tr>\n",
       "  </thead>\n",
       "  <tbody>\n",
       "    <tr>\n",
       "      <th>count</th>\n",
       "      <td>1388.000000</td>\n",
       "    </tr>\n",
       "    <tr>\n",
       "      <th>mean</th>\n",
       "      <td>29.026657</td>\n",
       "    </tr>\n",
       "    <tr>\n",
       "      <th>std</th>\n",
       "      <td>18.739285</td>\n",
       "    </tr>\n",
       "    <tr>\n",
       "      <th>min</th>\n",
       "      <td>0.500000</td>\n",
       "    </tr>\n",
       "    <tr>\n",
       "      <th>25%</th>\n",
       "      <td>14.500000</td>\n",
       "    </tr>\n",
       "    <tr>\n",
       "      <th>50%</th>\n",
       "      <td>27.500000</td>\n",
       "    </tr>\n",
       "    <tr>\n",
       "      <th>75%</th>\n",
       "      <td>37.500000</td>\n",
       "    </tr>\n",
       "    <tr>\n",
       "      <th>max</th>\n",
       "      <td>65.000000</td>\n",
       "    </tr>\n",
       "  </tbody>\n",
       "</table>\n",
       "</div>"
      ],
      "text/plain": [
       "            faminc\n",
       "count  1388.000000\n",
       "mean     29.026657\n",
       "std      18.739285\n",
       "min       0.500000\n",
       "25%      14.500000\n",
       "50%      27.500000\n",
       "75%      37.500000\n",
       "max      65.000000"
      ]
     },
     "execution_count": 62,
     "metadata": {},
     "output_type": "execute_result"
    }
   ],
   "source": [
    "inc = bwght.copy()\n",
    "faminc = inc[['faminc']]\n",
    "faminc.describe()"
   ]
  },
  {
   "cell_type": "code",
   "execution_count": 63,
   "id": "8734a809-b755-476f-a941-2d23158e5a4f",
   "metadata": {},
   "outputs": [
    {
     "data": {
      "text/plain": [
       "29026.657060518733"
      ]
     },
     "execution_count": 63,
     "metadata": {},
     "output_type": "execute_result"
    }
   ],
   "source": [
    "faminc_mean = np.mean(faminc)*1000\n",
    "faminc_mean"
   ]
  },
  {
   "cell_type": "code",
   "execution_count": 64,
   "id": "8567b88e-f07c-400d-9791-77c419559bdb",
   "metadata": {},
   "outputs": [
    {
     "name": "stderr",
     "output_type": "stream",
     "text": [
      "C:\\Anaconda3\\Lib\\site-packages\\numpy\\core\\fromnumeric.py:3643: FutureWarning: The behavior of DataFrame.std with axis=None is deprecated, in a future version this will reduce over both axes and return a scalar. To retain the old behavior, pass axis=0 (or do not pass axis)\n",
      "  return std(axis=axis, dtype=dtype, out=out, ddof=ddof, **kwargs)\n"
     ]
    },
    {
     "data": {
      "text/plain": [
       "faminc    18732.532953\n",
       "dtype: float64"
      ]
     },
     "execution_count": 64,
     "metadata": {},
     "output_type": "execute_result"
    }
   ],
   "source": [
    "faminc_std = np.std(faminc)*1000\n",
    "faminc_std"
   ]
  },
  {
   "cell_type": "code",
   "execution_count": 65,
   "id": "f0a6e6ae-3b26-43df-ab73-a4e5bf1ad8cb",
   "metadata": {},
   "outputs": [
    {
     "name": "stdout",
     "output_type": "stream",
     "text": [
      "The average family income is $29026.66 and the standard deviation is $18,730.\n"
     ]
    }
   ],
   "source": [
    "print(f\"The average family income is ${np.round(faminc_mean, 2)} and the standard deviation is $18,730.\")"
   ]
  },
  {
   "cell_type": "markdown",
   "id": "4b0b8f9c-84db-4065-914b-1757cd7a7842",
   "metadata": {},
   "source": [
    "## C3\n",
    "\n",
    "The data in MEAP01 are for the state of Michigan in the year 2001. Use these data to answer the following\n",
    "questions."
   ]
  },
  {
   "cell_type": "code",
   "execution_count": 67,
   "id": "d2ff76b8-7ad7-4d5e-9512-a303bb7ddf4b",
   "metadata": {},
   "outputs": [
    {
     "data": {
      "text/html": [
       "<div>\n",
       "<style scoped>\n",
       "    .dataframe tbody tr th:only-of-type {\n",
       "        vertical-align: middle;\n",
       "    }\n",
       "\n",
       "    .dataframe tbody tr th {\n",
       "        vertical-align: top;\n",
       "    }\n",
       "\n",
       "    .dataframe thead th {\n",
       "        text-align: right;\n",
       "    }\n",
       "</style>\n",
       "<table border=\"1\" class=\"dataframe\">\n",
       "  <thead>\n",
       "    <tr style=\"text-align: right;\">\n",
       "      <th></th>\n",
       "      <th>dcode</th>\n",
       "      <th>bcode</th>\n",
       "      <th>math4</th>\n",
       "      <th>read4</th>\n",
       "      <th>lunch</th>\n",
       "      <th>enroll</th>\n",
       "      <th>expend</th>\n",
       "      <th>exppp</th>\n",
       "      <th>lenroll</th>\n",
       "      <th>lexpend</th>\n",
       "      <th>lexppp</th>\n",
       "    </tr>\n",
       "  </thead>\n",
       "  <tbody>\n",
       "    <tr>\n",
       "      <th>0</th>\n",
       "      <td>1010.0</td>\n",
       "      <td>4937</td>\n",
       "      <td>83.300003</td>\n",
       "      <td>77.800003</td>\n",
       "      <td>40.599998</td>\n",
       "      <td>468</td>\n",
       "      <td>2747475.0</td>\n",
       "      <td>5870.672852</td>\n",
       "      <td>6.148468</td>\n",
       "      <td>14.826193</td>\n",
       "      <td>8.677725</td>\n",
       "    </tr>\n",
       "    <tr>\n",
       "      <th>1</th>\n",
       "      <td>2070.0</td>\n",
       "      <td>597</td>\n",
       "      <td>90.300003</td>\n",
       "      <td>82.300003</td>\n",
       "      <td>27.100000</td>\n",
       "      <td>679</td>\n",
       "      <td>1505772.0</td>\n",
       "      <td>2217.631836</td>\n",
       "      <td>6.520621</td>\n",
       "      <td>14.224816</td>\n",
       "      <td>7.704195</td>\n",
       "    </tr>\n",
       "    <tr>\n",
       "      <th>2</th>\n",
       "      <td>2080.0</td>\n",
       "      <td>4860</td>\n",
       "      <td>61.900002</td>\n",
       "      <td>71.400002</td>\n",
       "      <td>41.750000</td>\n",
       "      <td>400</td>\n",
       "      <td>2121871.0</td>\n",
       "      <td>5304.677734</td>\n",
       "      <td>5.991465</td>\n",
       "      <td>14.567809</td>\n",
       "      <td>8.576344</td>\n",
       "    </tr>\n",
       "    <tr>\n",
       "      <th>3</th>\n",
       "      <td>3010.0</td>\n",
       "      <td>790</td>\n",
       "      <td>85.699997</td>\n",
       "      <td>60.000000</td>\n",
       "      <td>12.750000</td>\n",
       "      <td>251</td>\n",
       "      <td>1211034.0</td>\n",
       "      <td>4824.836426</td>\n",
       "      <td>5.525453</td>\n",
       "      <td>14.006985</td>\n",
       "      <td>8.481532</td>\n",
       "    </tr>\n",
       "    <tr>\n",
       "      <th>4</th>\n",
       "      <td>3010.0</td>\n",
       "      <td>1403</td>\n",
       "      <td>77.300003</td>\n",
       "      <td>59.099998</td>\n",
       "      <td>17.080000</td>\n",
       "      <td>439</td>\n",
       "      <td>1913501.0</td>\n",
       "      <td>4358.771973</td>\n",
       "      <td>6.084499</td>\n",
       "      <td>14.464445</td>\n",
       "      <td>8.379946</td>\n",
       "    </tr>\n",
       "  </tbody>\n",
       "</table>\n",
       "</div>"
      ],
      "text/plain": [
       "    dcode  bcode      math4      read4      lunch  enroll     expend  \\\n",
       "0  1010.0   4937  83.300003  77.800003  40.599998     468  2747475.0   \n",
       "1  2070.0    597  90.300003  82.300003  27.100000     679  1505772.0   \n",
       "2  2080.0   4860  61.900002  71.400002  41.750000     400  2121871.0   \n",
       "3  3010.0    790  85.699997  60.000000  12.750000     251  1211034.0   \n",
       "4  3010.0   1403  77.300003  59.099998  17.080000     439  1913501.0   \n",
       "\n",
       "         exppp   lenroll    lexpend    lexppp  \n",
       "0  5870.672852  6.148468  14.826193  8.677725  \n",
       "1  2217.631836  6.520621  14.224816  7.704195  \n",
       "2  5304.677734  5.991465  14.567809  8.576344  \n",
       "3  4824.836426  5.525453  14.006985  8.481532  \n",
       "4  4358.771973  6.084499  14.464445  8.379946  "
      ]
     },
     "execution_count": 67,
     "metadata": {},
     "output_type": "execute_result"
    }
   ],
   "source": [
    "meap01 = wooldridge.data('meap01')\n",
    "meap01.head()"
   ]
  },
  {
   "cell_type": "code",
   "execution_count": 68,
   "id": "fb075f6f-36bc-4f54-8249-7b1dbb138dcb",
   "metadata": {},
   "outputs": [
    {
     "data": {
      "text/html": [
       "<div>\n",
       "<style scoped>\n",
       "    .dataframe tbody tr th:only-of-type {\n",
       "        vertical-align: middle;\n",
       "    }\n",
       "\n",
       "    .dataframe tbody tr th {\n",
       "        vertical-align: top;\n",
       "    }\n",
       "\n",
       "    .dataframe thead th {\n",
       "        text-align: right;\n",
       "    }\n",
       "</style>\n",
       "<table border=\"1\" class=\"dataframe\">\n",
       "  <thead>\n",
       "    <tr style=\"text-align: right;\">\n",
       "      <th></th>\n",
       "      <th>dcode</th>\n",
       "      <th>bcode</th>\n",
       "      <th>math4</th>\n",
       "      <th>read4</th>\n",
       "      <th>lunch</th>\n",
       "      <th>enroll</th>\n",
       "      <th>expend</th>\n",
       "      <th>exppp</th>\n",
       "      <th>lenroll</th>\n",
       "      <th>lexpend</th>\n",
       "      <th>lexppp</th>\n",
       "    </tr>\n",
       "  </thead>\n",
       "  <tbody>\n",
       "    <tr>\n",
       "      <th>count</th>\n",
       "      <td>1823.000000</td>\n",
       "      <td>1823.000000</td>\n",
       "      <td>1823.000000</td>\n",
       "      <td>1823.000000</td>\n",
       "      <td>1823.000000</td>\n",
       "      <td>1823.000000</td>\n",
       "      <td>1.823000e+03</td>\n",
       "      <td>1823.000000</td>\n",
       "      <td>1823.000000</td>\n",
       "      <td>1823.000000</td>\n",
       "      <td>1823.000000</td>\n",
       "    </tr>\n",
       "    <tr>\n",
       "      <th>mean</th>\n",
       "      <td>53028.266045</td>\n",
       "      <td>3394.556775</td>\n",
       "      <td>71.908996</td>\n",
       "      <td>60.061876</td>\n",
       "      <td>39.251903</td>\n",
       "      <td>401.935820</td>\n",
       "      <td>2.036984e+06</td>\n",
       "      <td>5194.865478</td>\n",
       "      <td>5.910937</td>\n",
       "      <td>14.444080</td>\n",
       "      <td>8.533143</td>\n",
       "    </tr>\n",
       "    <tr>\n",
       "      <th>std</th>\n",
       "      <td>23907.061075</td>\n",
       "      <td>2442.928934</td>\n",
       "      <td>19.954092</td>\n",
       "      <td>19.147292</td>\n",
       "      <td>26.416717</td>\n",
       "      <td>169.825728</td>\n",
       "      <td>8.649361e+05</td>\n",
       "      <td>1091.889597</td>\n",
       "      <td>0.420448</td>\n",
       "      <td>0.411547</td>\n",
       "      <td>0.214971</td>\n",
       "    </tr>\n",
       "    <tr>\n",
       "      <th>min</th>\n",
       "      <td>1010.000000</td>\n",
       "      <td>1.000000</td>\n",
       "      <td>0.000000</td>\n",
       "      <td>0.000000</td>\n",
       "      <td>0.000000</td>\n",
       "      <td>62.000000</td>\n",
       "      <td>2.759850e+05</td>\n",
       "      <td>1206.881958</td>\n",
       "      <td>4.127134</td>\n",
       "      <td>12.528102</td>\n",
       "      <td>7.095796</td>\n",
       "    </tr>\n",
       "    <tr>\n",
       "      <th>25%</th>\n",
       "      <td>33901.500000</td>\n",
       "      <td>1385.500000</td>\n",
       "      <td>61.600000</td>\n",
       "      <td>48.900002</td>\n",
       "      <td>16.614999</td>\n",
       "      <td>287.000000</td>\n",
       "      <td>1.474465e+06</td>\n",
       "      <td>4501.541504</td>\n",
       "      <td>5.659482</td>\n",
       "      <td>14.203805</td>\n",
       "      <td>8.412175</td>\n",
       "    </tr>\n",
       "    <tr>\n",
       "      <th>50%</th>\n",
       "      <td>55100.000000</td>\n",
       "      <td>2794.000000</td>\n",
       "      <td>76.400002</td>\n",
       "      <td>62.700001</td>\n",
       "      <td>35.100002</td>\n",
       "      <td>379.000000</td>\n",
       "      <td>1.894043e+06</td>\n",
       "      <td>5078.252930</td>\n",
       "      <td>5.937536</td>\n",
       "      <td>14.454225</td>\n",
       "      <td>8.532722</td>\n",
       "    </tr>\n",
       "    <tr>\n",
       "      <th>75%</th>\n",
       "      <td>77010.000000</td>\n",
       "      <td>5084.500000</td>\n",
       "      <td>87.000000</td>\n",
       "      <td>73.900002</td>\n",
       "      <td>59.065002</td>\n",
       "      <td>484.000000</td>\n",
       "      <td>2.407636e+06</td>\n",
       "      <td>5767.141846</td>\n",
       "      <td>6.182085</td>\n",
       "      <td>14.694156</td>\n",
       "      <td>8.659932</td>\n",
       "    </tr>\n",
       "    <tr>\n",
       "      <th>max</th>\n",
       "      <td>83070.000000</td>\n",
       "      <td>8838.000000</td>\n",
       "      <td>100.000000</td>\n",
       "      <td>100.000000</td>\n",
       "      <td>100.000000</td>\n",
       "      <td>1496.000000</td>\n",
       "      <td>7.665998e+06</td>\n",
       "      <td>11957.637695</td>\n",
       "      <td>7.310550</td>\n",
       "      <td>15.852305</td>\n",
       "      <td>9.389126</td>\n",
       "    </tr>\n",
       "  </tbody>\n",
       "</table>\n",
       "</div>"
      ],
      "text/plain": [
       "              dcode        bcode        math4        read4        lunch  \\\n",
       "count   1823.000000  1823.000000  1823.000000  1823.000000  1823.000000   \n",
       "mean   53028.266045  3394.556775    71.908996    60.061876    39.251903   \n",
       "std    23907.061075  2442.928934    19.954092    19.147292    26.416717   \n",
       "min     1010.000000     1.000000     0.000000     0.000000     0.000000   \n",
       "25%    33901.500000  1385.500000    61.600000    48.900002    16.614999   \n",
       "50%    55100.000000  2794.000000    76.400002    62.700001    35.100002   \n",
       "75%    77010.000000  5084.500000    87.000000    73.900002    59.065002   \n",
       "max    83070.000000  8838.000000   100.000000   100.000000   100.000000   \n",
       "\n",
       "            enroll        expend         exppp      lenroll      lexpend  \\\n",
       "count  1823.000000  1.823000e+03   1823.000000  1823.000000  1823.000000   \n",
       "mean    401.935820  2.036984e+06   5194.865478     5.910937    14.444080   \n",
       "std     169.825728  8.649361e+05   1091.889597     0.420448     0.411547   \n",
       "min      62.000000  2.759850e+05   1206.881958     4.127134    12.528102   \n",
       "25%     287.000000  1.474465e+06   4501.541504     5.659482    14.203805   \n",
       "50%     379.000000  1.894043e+06   5078.252930     5.937536    14.454225   \n",
       "75%     484.000000  2.407636e+06   5767.141846     6.182085    14.694156   \n",
       "max    1496.000000  7.665998e+06  11957.637695     7.310550    15.852305   \n",
       "\n",
       "            lexppp  \n",
       "count  1823.000000  \n",
       "mean      8.533143  \n",
       "std       0.214971  \n",
       "min       7.095796  \n",
       "25%       8.412175  \n",
       "50%       8.532722  \n",
       "75%       8.659932  \n",
       "max       9.389126  "
      ]
     },
     "execution_count": 68,
     "metadata": {},
     "output_type": "execute_result"
    }
   ],
   "source": [
    "meap01.describe()"
   ]
  },
  {
   "cell_type": "markdown",
   "id": "bdf0dc75-21ca-4c7f-972e-091721120cb9",
   "metadata": {
    "jp-MarkdownHeadingCollapsed": true
   },
   "source": [
    "### (i) \n",
    "Find the largest and smallest values of math4. Does the range make sense? Explain."
   ]
  },
  {
   "cell_type": "code",
   "execution_count": 70,
   "id": "4fc409f0-4e2b-412a-963c-95a0d8ecefae",
   "metadata": {},
   "outputs": [
    {
     "data": {
      "text/plain": [
       "count    1823.000000\n",
       "mean       71.908996\n",
       "std        19.954092\n",
       "min         0.000000\n",
       "25%        61.600000\n",
       "50%        76.400002\n",
       "75%        87.000000\n",
       "max       100.000000\n",
       "Name: math4, dtype: float64"
      ]
     },
     "execution_count": 70,
     "metadata": {},
     "output_type": "execute_result"
    }
   ],
   "source": [
    "minmax_data = meap01.copy()\n",
    "minmax_data['math4'].describe()"
   ]
  },
  {
   "cell_type": "markdown",
   "id": "4f6bcfb1-ee22-4cf5-8a4d-42e83bbef55e",
   "metadata": {},
   "source": [
    "The largest and the smallest values of math4 are 100 and 0, respectively. The range makes sense because it is the range of percentage(%) of satisfaction."
   ]
  },
  {
   "cell_type": "markdown",
   "id": "65cb9124-d7d7-4bf8-91de-c29432e23e3c",
   "metadata": {},
   "source": [
    "### (ii) \n",
    "How many schools have a perfect pass rate on the math test? What percentage is this of the total sample?"
   ]
  },
  {
   "cell_type": "code",
   "execution_count": 73,
   "id": "1c4312e8-8824-4e6f-926c-95db735ddf73",
   "metadata": {},
   "outputs": [
    {
     "data": {
      "text/plain": [
       "38"
      ]
     },
     "execution_count": 73,
     "metadata": {},
     "output_type": "execute_result"
    }
   ],
   "source": [
    "pass_rate = meap01.copy()\n",
    "perfect_passrate = pass_rate[pass_rate['math4'] == 100]\n",
    "perfect_passrate_count = perfect_passrate['math4'].count()\n",
    "perfect_passrate_count"
   ]
  },
  {
   "cell_type": "code",
   "execution_count": 74,
   "id": "b7f5c8aa-1927-4d5f-8342-87350786085a",
   "metadata": {},
   "outputs": [
    {
     "name": "stdout",
     "output_type": "stream",
     "text": [
      "There are 38 schools have a perfect pass rate on the math test. The percentage is 2.08% of the total sample.\n"
     ]
    }
   ],
   "source": [
    "print(f\"There are {perfect_passrate_count} schools have a perfect pass rate on the math test. The percentage is {np.round((perfect_passrate_count/minmax_data['math4'].count())*100, 2)}% of the total sample.\")"
   ]
  },
  {
   "cell_type": "markdown",
   "id": "ccfd99d4-ec73-434d-bcc7-e2e44f6dbb69",
   "metadata": {},
   "source": [
    "### (iii) \n",
    "How many schools have math pass rates of exactly 50%?"
   ]
  },
  {
   "cell_type": "code",
   "execution_count": 76,
   "id": "b68b11eb-626e-4871-a2ad-5ff8881b44a5",
   "metadata": {},
   "outputs": [
    {
     "name": "stdout",
     "output_type": "stream",
     "text": [
      "There are 11 schools that have math pass rates of exactly 50%.\n"
     ]
    }
   ],
   "source": [
    "fifty = pass_rate[pass_rate['math4'] == 50].count()\n",
    "print(f\"There are {fifty.count()} schools that have math pass rates of exactly 50%.\")"
   ]
  },
  {
   "cell_type": "markdown",
   "id": "b4fb0338-93c7-4639-8e95-247b276859cd",
   "metadata": {},
   "source": [
    "### (iv) \n",
    "Compare the average pass rates for the math and reading scores. Which test is harder to pass?"
   ]
  },
  {
   "cell_type": "code",
   "execution_count": 78,
   "id": "01ff82e6-6976-47b6-900f-eb5146fd1601",
   "metadata": {},
   "outputs": [
    {
     "data": {
      "text/html": [
       "<div>\n",
       "<style scoped>\n",
       "    .dataframe tbody tr th:only-of-type {\n",
       "        vertical-align: middle;\n",
       "    }\n",
       "\n",
       "    .dataframe tbody tr th {\n",
       "        vertical-align: top;\n",
       "    }\n",
       "\n",
       "    .dataframe thead th {\n",
       "        text-align: right;\n",
       "    }\n",
       "</style>\n",
       "<table border=\"1\" class=\"dataframe\">\n",
       "  <thead>\n",
       "    <tr style=\"text-align: right;\">\n",
       "      <th></th>\n",
       "      <th>math4</th>\n",
       "      <th>read4</th>\n",
       "    </tr>\n",
       "  </thead>\n",
       "  <tbody>\n",
       "    <tr>\n",
       "      <th>count</th>\n",
       "      <td>1823.000000</td>\n",
       "      <td>1823.000000</td>\n",
       "    </tr>\n",
       "    <tr>\n",
       "      <th>mean</th>\n",
       "      <td>71.908996</td>\n",
       "      <td>60.061876</td>\n",
       "    </tr>\n",
       "    <tr>\n",
       "      <th>std</th>\n",
       "      <td>19.954092</td>\n",
       "      <td>19.147292</td>\n",
       "    </tr>\n",
       "    <tr>\n",
       "      <th>min</th>\n",
       "      <td>0.000000</td>\n",
       "      <td>0.000000</td>\n",
       "    </tr>\n",
       "    <tr>\n",
       "      <th>25%</th>\n",
       "      <td>61.600000</td>\n",
       "      <td>48.900002</td>\n",
       "    </tr>\n",
       "    <tr>\n",
       "      <th>50%</th>\n",
       "      <td>76.400002</td>\n",
       "      <td>62.700001</td>\n",
       "    </tr>\n",
       "    <tr>\n",
       "      <th>75%</th>\n",
       "      <td>87.000000</td>\n",
       "      <td>73.900002</td>\n",
       "    </tr>\n",
       "    <tr>\n",
       "      <th>max</th>\n",
       "      <td>100.000000</td>\n",
       "      <td>100.000000</td>\n",
       "    </tr>\n",
       "  </tbody>\n",
       "</table>\n",
       "</div>"
      ],
      "text/plain": [
       "             math4        read4\n",
       "count  1823.000000  1823.000000\n",
       "mean     71.908996    60.061876\n",
       "std      19.954092    19.147292\n",
       "min       0.000000     0.000000\n",
       "25%      61.600000    48.900002\n",
       "50%      76.400002    62.700001\n",
       "75%      87.000000    73.900002\n",
       "max     100.000000   100.000000"
      ]
     },
     "execution_count": 78,
     "metadata": {},
     "output_type": "execute_result"
    }
   ],
   "source": [
    "# get the 'math4' and 'read4' column for comparison\n",
    "mathread_scores = pass_rate[['math4', 'read4']]\n",
    "mathread_scores.describe()"
   ]
  },
  {
   "cell_type": "markdown",
   "id": "766476c9-61f7-45a6-b0a2-371dec8b05ff",
   "metadata": {},
   "source": [
    "The average pass rates for the math and reading scores are 71.90% and 60.06%, respectively. Math test is harder to pass than reading test."
   ]
  },
  {
   "cell_type": "markdown",
   "id": "6d2a5ab3-2851-46ea-b938-4460a46ecf19",
   "metadata": {},
   "source": [
    "### (v) \n",
    "Find the correlation between math4 and read4. What do you conclude?"
   ]
  },
  {
   "cell_type": "code",
   "execution_count": 81,
   "id": "f73ba5ec-828b-4549-9f15-2f8a2f65da32",
   "metadata": {},
   "outputs": [
    {
     "name": "stdout",
     "output_type": "stream",
     "text": [
      "Pearsons correlation: 0.843\n"
     ]
    }
   ],
   "source": [
    "from scipy.stats import pearsonr\n",
    "\n",
    "x = pass_rate['math4']\n",
    "y = pass_rate['read4']\n",
    "\n",
    "# Apply the pearsonr()\n",
    "corr, _ = pearsonr(x, y)\n",
    "print('Pearsons correlation: %.3f' % corr)"
   ]
  },
  {
   "cell_type": "code",
   "execution_count": 82,
   "id": "169525c0-691f-4588-bfdc-992bca56f430",
   "metadata": {},
   "outputs": [
    {
     "data": {
      "image/png": "[encoded data removed]",
      "text/plain": [
       "<Figure size 640x480 with 1 Axes>"
      ]
     },
     "metadata": {},
     "output_type": "display_data"
    }
   ],
   "source": [
    "# Let's see the graph\n",
    "plt.scatter(x, y)\n",
    "plt.xlabel('math4')\n",
    "plt.ylabel('read4')\n",
    "plt.show()"
   ]
  },
  {
   "cell_type": "markdown",
   "id": "346d12de-fd4a-4573-908d-a8a519d7cd50",
   "metadata": {},
   "source": [
    "The correlation between 2 variables is 0.843, which means there is a positive correlation. As we increase the percentage on the math scores, so does the reading scores."
   ]
  },
  {
   "cell_type": "markdown",
   "id": "e70e3696-fb6d-48d9-ba42-0844daba8fc4",
   "metadata": {
    "jp-MarkdownHeadingCollapsed": true
   },
   "source": [
    "### (vi) \n",
    "The variable exppp is expenditure per pupil. Find the average of exppp along with its standard deviation. Would you say there is wide variation in per pupil spending?"
   ]
  },
  {
   "cell_type": "code",
   "execution_count": 85,
   "id": "6cf35b03-564d-4b84-a473-cc94ef2addd4",
   "metadata": {},
   "outputs": [
    {
     "data": {
      "text/html": [
       "<div>\n",
       "<style scoped>\n",
       "    .dataframe tbody tr th:only-of-type {\n",
       "        vertical-align: middle;\n",
       "    }\n",
       "\n",
       "    .dataframe tbody tr th {\n",
       "        vertical-align: top;\n",
       "    }\n",
       "\n",
       "    .dataframe thead th {\n",
       "        text-align: right;\n",
       "    }\n",
       "</style>\n",
       "<table border=\"1\" class=\"dataframe\">\n",
       "  <thead>\n",
       "    <tr style=\"text-align: right;\">\n",
       "      <th></th>\n",
       "      <th>exppp</th>\n",
       "    </tr>\n",
       "  </thead>\n",
       "  <tbody>\n",
       "    <tr>\n",
       "      <th>count</th>\n",
       "      <td>1823.000000</td>\n",
       "    </tr>\n",
       "    <tr>\n",
       "      <th>mean</th>\n",
       "      <td>5194.865478</td>\n",
       "    </tr>\n",
       "    <tr>\n",
       "      <th>std</th>\n",
       "      <td>1091.889597</td>\n",
       "    </tr>\n",
       "    <tr>\n",
       "      <th>min</th>\n",
       "      <td>1206.881958</td>\n",
       "    </tr>\n",
       "    <tr>\n",
       "      <th>25%</th>\n",
       "      <td>4501.541504</td>\n",
       "    </tr>\n",
       "    <tr>\n",
       "      <th>50%</th>\n",
       "      <td>5078.252930</td>\n",
       "    </tr>\n",
       "    <tr>\n",
       "      <th>75%</th>\n",
       "      <td>5767.141846</td>\n",
       "    </tr>\n",
       "    <tr>\n",
       "      <th>max</th>\n",
       "      <td>11957.637695</td>\n",
       "    </tr>\n",
       "  </tbody>\n",
       "</table>\n",
       "</div>"
      ],
      "text/plain": [
       "              exppp\n",
       "count   1823.000000\n",
       "mean    5194.865478\n",
       "std     1091.889597\n",
       "min     1206.881958\n",
       "25%     4501.541504\n",
       "50%     5078.252930\n",
       "75%     5767.141846\n",
       "max    11957.637695"
      ]
     },
     "execution_count": 85,
     "metadata": {},
     "output_type": "execute_result"
    }
   ],
   "source": [
    "exppp = meap01.copy()\n",
    "exppp = exppp[['exppp']]\n",
    "exppp.describe()"
   ]
  },
  {
   "cell_type": "code",
   "execution_count": 86,
   "id": "f165f696-8bf5-48a1-84f9-b353756f300b",
   "metadata": {},
   "outputs": [
    {
     "data": {
      "image/png": "[encoded data removed]",
      "text/plain": [
       "<Figure size 640x480 with 1 Axes>"
      ]
     },
     "metadata": {},
     "output_type": "display_data"
    }
   ],
   "source": [
    "import seaborn as sns\n",
    "sns.histplot(data=exppp, x=\"exppp\")\n",
    "plt.show()"
   ]
  },
  {
   "cell_type": "code",
   "execution_count": 87,
   "id": "6f0f8c65-dfcb-45bf-9d5f-b8165d36f201",
   "metadata": {},
   "outputs": [
    {
     "name": "stderr",
     "output_type": "stream",
     "text": [
      "C:\\Anaconda3\\Lib\\site-packages\\numpy\\core\\fromnumeric.py:3643: FutureWarning: The behavior of DataFrame.std with axis=None is deprecated, in a future version this will reduce over both axes and return a scalar. To retain the old behavior, pass axis=0 (or do not pass axis)\n",
      "  return std(axis=axis, dtype=dtype, out=out, ddof=ddof, **kwargs)\n"
     ]
    },
    {
     "data": {
      "text/plain": [
       "exppp    21.012865\n",
       "dtype: float64"
      ]
     },
     "execution_count": 87,
     "metadata": {},
     "output_type": "execute_result"
    }
   ],
   "source": [
    "# let us try to conpute the coefficient of variation (CV):\n",
    "CV = (np.std(exppp) / np.mean(exppp)) * 100\n",
    "CV"
   ]
  },
  {
   "cell_type": "markdown",
   "id": "54a0e1e3-9bd9-4dde-941a-6e45e6961208",
   "metadata": {},
   "source": [
    "Our data has **some variation, but it is not extremely wide.**"
   ]
  },
  {
   "cell_type": "markdown",
   "id": "06af30fd-57c5-4b42-9c2e-4e958f0663f2",
   "metadata": {},
   "source": [
    "### (vii) \n",
    "Suppose School A spends USD6,000 per student and School B spends $5,500 per student. By what percentage does School A’s spending exceed School B’s? Compare this to 100 · [log(6,000) – log(5,500)], which is the approximation percentage difference based on the difference in the natural logs. (See Section A.4 in Math Refresher A.)"
   ]
  },
  {
   "cell_type": "code",
   "execution_count": 90,
   "id": "3ec7223f-be7f-470e-8b86-98de531fde7f",
   "metadata": {},
   "outputs": [
    {
     "data": {
      "text/plain": [
       "9.09"
      ]
     },
     "execution_count": 90,
     "metadata": {},
     "output_type": "execute_result"
    }
   ],
   "source": [
    "school_a = 6000\n",
    "school_b = 5500\n",
    "\n",
    "# To compute for the percentage\n",
    "spend_perc = ((school_a - school_b) / school_b) * 100\n",
    "np.round(spend_perc, 2)"
   ]
  },
  {
   "cell_type": "code",
   "execution_count": 91,
   "id": "2b4e30b8-1310-4e29-9f4b-87398a7f91cf",
   "metadata": {},
   "outputs": [
    {
     "data": {
      "text/plain": [
       "8.7"
      ]
     },
     "execution_count": 91,
     "metadata": {},
     "output_type": "execute_result"
    }
   ],
   "source": [
    "log_spend = 100 * (np.log(school_a) - np.log(school_b))\n",
    "np.round(log_spend, 2)"
   ]
  },
  {
   "cell_type": "markdown",
   "id": "27dc3e3b-1750-4090-94b3-eb1afe536c82",
   "metadata": {},
   "source": [
    "## C4"
   ]
  },
  {
   "cell_type": "markdown",
   "id": "4b3e7462-0904-47f3-b858-947b30f64a62",
   "metadata": {},
   "source": [
    "The data in JTRAIN2 come from a job training experiment conducted for low-income men during 1976–1977; see Lalonde (1986)."
   ]
  },
  {
   "cell_type": "code",
   "execution_count": 135,
   "id": "73d36d15-1dbf-4060-99cc-a1bb6290fb12",
   "metadata": {},
   "outputs": [
    {
     "data": {
      "text/html": [
       "<div>\n",
       "<style scoped>\n",
       "    .dataframe tbody tr th:only-of-type {\n",
       "        vertical-align: middle;\n",
       "    }\n",
       "\n",
       "    .dataframe tbody tr th {\n",
       "        vertical-align: top;\n",
       "    }\n",
       "\n",
       "    .dataframe thead th {\n",
       "        text-align: right;\n",
       "    }\n",
       "</style>\n",
       "<table border=\"1\" class=\"dataframe\">\n",
       "  <thead>\n",
       "    <tr style=\"text-align: right;\">\n",
       "      <th></th>\n",
       "      <th>train</th>\n",
       "      <th>age</th>\n",
       "      <th>educ</th>\n",
       "      <th>black</th>\n",
       "      <th>hisp</th>\n",
       "      <th>married</th>\n",
       "      <th>nodegree</th>\n",
       "      <th>mosinex</th>\n",
       "      <th>re74</th>\n",
       "      <th>re75</th>\n",
       "      <th>re78</th>\n",
       "      <th>unem74</th>\n",
       "      <th>unem75</th>\n",
       "      <th>unem78</th>\n",
       "      <th>lre74</th>\n",
       "      <th>lre75</th>\n",
       "      <th>lre78</th>\n",
       "      <th>agesq</th>\n",
       "      <th>mostrn</th>\n",
       "    </tr>\n",
       "  </thead>\n",
       "  <tbody>\n",
       "    <tr>\n",
       "      <th>0</th>\n",
       "      <td>1</td>\n",
       "      <td>37</td>\n",
       "      <td>11</td>\n",
       "      <td>1</td>\n",
       "      <td>0</td>\n",
       "      <td>1</td>\n",
       "      <td>1</td>\n",
       "      <td>13</td>\n",
       "      <td>0.0</td>\n",
       "      <td>0.0</td>\n",
       "      <td>9.93005</td>\n",
       "      <td>1</td>\n",
       "      <td>1</td>\n",
       "      <td>0</td>\n",
       "      <td>0.0</td>\n",
       "      <td>0.0</td>\n",
       "      <td>2.295566</td>\n",
       "      <td>1369</td>\n",
       "      <td>13</td>\n",
       "    </tr>\n",
       "    <tr>\n",
       "      <th>1</th>\n",
       "      <td>1</td>\n",
       "      <td>22</td>\n",
       "      <td>9</td>\n",
       "      <td>0</td>\n",
       "      <td>1</td>\n",
       "      <td>0</td>\n",
       "      <td>1</td>\n",
       "      <td>13</td>\n",
       "      <td>0.0</td>\n",
       "      <td>0.0</td>\n",
       "      <td>3.59589</td>\n",
       "      <td>1</td>\n",
       "      <td>1</td>\n",
       "      <td>0</td>\n",
       "      <td>0.0</td>\n",
       "      <td>0.0</td>\n",
       "      <td>1.279792</td>\n",
       "      <td>484</td>\n",
       "      <td>13</td>\n",
       "    </tr>\n",
       "    <tr>\n",
       "      <th>2</th>\n",
       "      <td>1</td>\n",
       "      <td>30</td>\n",
       "      <td>12</td>\n",
       "      <td>1</td>\n",
       "      <td>0</td>\n",
       "      <td>0</td>\n",
       "      <td>0</td>\n",
       "      <td>13</td>\n",
       "      <td>0.0</td>\n",
       "      <td>0.0</td>\n",
       "      <td>24.90950</td>\n",
       "      <td>1</td>\n",
       "      <td>1</td>\n",
       "      <td>0</td>\n",
       "      <td>0.0</td>\n",
       "      <td>0.0</td>\n",
       "      <td>3.215249</td>\n",
       "      <td>900</td>\n",
       "      <td>13</td>\n",
       "    </tr>\n",
       "    <tr>\n",
       "      <th>3</th>\n",
       "      <td>1</td>\n",
       "      <td>27</td>\n",
       "      <td>11</td>\n",
       "      <td>1</td>\n",
       "      <td>0</td>\n",
       "      <td>0</td>\n",
       "      <td>1</td>\n",
       "      <td>13</td>\n",
       "      <td>0.0</td>\n",
       "      <td>0.0</td>\n",
       "      <td>7.50615</td>\n",
       "      <td>1</td>\n",
       "      <td>1</td>\n",
       "      <td>0</td>\n",
       "      <td>0.0</td>\n",
       "      <td>0.0</td>\n",
       "      <td>2.015723</td>\n",
       "      <td>729</td>\n",
       "      <td>13</td>\n",
       "    </tr>\n",
       "    <tr>\n",
       "      <th>4</th>\n",
       "      <td>1</td>\n",
       "      <td>33</td>\n",
       "      <td>8</td>\n",
       "      <td>1</td>\n",
       "      <td>0</td>\n",
       "      <td>0</td>\n",
       "      <td>1</td>\n",
       "      <td>13</td>\n",
       "      <td>0.0</td>\n",
       "      <td>0.0</td>\n",
       "      <td>0.28979</td>\n",
       "      <td>1</td>\n",
       "      <td>1</td>\n",
       "      <td>0</td>\n",
       "      <td>0.0</td>\n",
       "      <td>0.0</td>\n",
       "      <td>-1.238599</td>\n",
       "      <td>1089</td>\n",
       "      <td>13</td>\n",
       "    </tr>\n",
       "  </tbody>\n",
       "</table>\n",
       "</div>"
      ],
      "text/plain": [
       "   train  age  educ  black  hisp  married  nodegree  mosinex  re74  re75  \\\n",
       "0      1   37    11      1     0        1         1       13   0.0   0.0   \n",
       "1      1   22     9      0     1        0         1       13   0.0   0.0   \n",
       "2      1   30    12      1     0        0         0       13   0.0   0.0   \n",
       "3      1   27    11      1     0        0         1       13   0.0   0.0   \n",
       "4      1   33     8      1     0        0         1       13   0.0   0.0   \n",
       "\n",
       "       re78  unem74  unem75  unem78  lre74  lre75     lre78  agesq  mostrn  \n",
       "0   9.93005       1       1       0    0.0    0.0  2.295566   1369      13  \n",
       "1   3.59589       1       1       0    0.0    0.0  1.279792    484      13  \n",
       "2  24.90950       1       1       0    0.0    0.0  3.215249    900      13  \n",
       "3   7.50615       1       1       0    0.0    0.0  2.015723    729      13  \n",
       "4   0.28979       1       1       0    0.0    0.0 -1.238599   1089      13  "
      ]
     },
     "execution_count": 135,
     "metadata": {},
     "output_type": "execute_result"
    }
   ],
   "source": [
    "jtrain2_data = wooldridge.data(\"jtrain2\")\n",
    "jtrain2_data = jtrain2_data.copy()\n",
    "jtrain2_data.head()"
   ]
  },
  {
   "cell_type": "code",
   "execution_count": 137,
   "id": "b83cdf73-9ed2-496e-9b34-2bc867f00683",
   "metadata": {},
   "outputs": [
    {
     "name": "stdout",
     "output_type": "stream",
     "text": [
      "<class 'pandas.core.frame.DataFrame'>\n",
      "RangeIndex: 445 entries, 0 to 444\n",
      "Data columns (total 19 columns):\n",
      " #   Column    Non-Null Count  Dtype  \n",
      "---  ------    --------------  -----  \n",
      " 0   train     445 non-null    int64  \n",
      " 1   age       445 non-null    int64  \n",
      " 2   educ      445 non-null    int64  \n",
      " 3   black     445 non-null    int64  \n",
      " 4   hisp      445 non-null    int64  \n",
      " 5   married   445 non-null    int64  \n",
      " 6   nodegree  445 non-null    int64  \n",
      " 7   mosinex   445 non-null    int64  \n",
      " 8   re74      445 non-null    float64\n",
      " 9   re75      445 non-null    float64\n",
      " 10  re78      445 non-null    float64\n",
      " 11  unem74    445 non-null    int64  \n",
      " 12  unem75    445 non-null    int64  \n",
      " 13  unem78    445 non-null    int64  \n",
      " 14  lre74     445 non-null    float64\n",
      " 15  lre75     445 non-null    float64\n",
      " 16  lre78     445 non-null    float64\n",
      " 17  agesq     445 non-null    int64  \n",
      " 18  mostrn    445 non-null    int64  \n",
      "dtypes: float64(6), int64(13)\n",
      "memory usage: 66.2 KB\n"
     ]
    }
   ],
   "source": [
    "jtrain2_data.info()"
   ]
  },
  {
   "cell_type": "markdown",
   "id": "6617a771-5e73-4266-9461-12912e87a2b5",
   "metadata": {
    "jp-MarkdownHeadingCollapsed": true
   },
   "source": [
    "### (i)\n",
    "Use the indicator variable train to determine the fraction of men receiving job training."
   ]
  },
  {
   "cell_type": "code",
   "execution_count": 159,
   "id": "885147d9-9bb8-48ff-a138-f9da554a06e0",
   "metadata": {},
   "outputs": [
    {
     "data": {
      "text/plain": [
       "train\n",
       "0        260\n",
       "1        185\n",
       "Name: count, dtype: int64"
      ]
     },
     "execution_count": 159,
     "metadata": {},
     "output_type": "execute_result"
    }
   ],
   "source": [
    "train = jtrain2_data.copy()\n",
    "train_data = train[['train']]\n",
    "train_data.value_counts()"
   ]
  },
  {
   "cell_type": "code",
   "execution_count": 163,
   "id": "a09de721-2bbd-4dfd-a43e-cfee1577b367",
   "metadata": {},
   "outputs": [],
   "source": [
    "# from fractions import Fraction\n",
    "# job_train = train_data.value_counts([0])\n",
    "# job_train"
   ]
  },
  {
   "cell_type": "code",
   "execution_count": 207,
   "id": "e2104342-3cfb-4807-9da4-1327672baea5",
   "metadata": {},
   "outputs": [
    {
     "name": "stdout",
     "output_type": "stream",
     "text": [
      "185 / 445 or 41.57% of men receiving job training.\n"
     ]
    }
   ],
   "source": [
    "job_train_count = train_data[train_data['train'] == 1].count()\n",
    "total_men_count = jtrain2_data['train'].count()\n",
    "\n",
    "print(f\"{job_train_count.item()} / {total_men_count.item()} or {np.round((job_train_count.item() / total_men_count.item())*100, 2)}% of men receiving job training.\")"
   ]
  },
  {
   "cell_type": "markdown",
   "id": "b5758033-16dd-4a7e-bbe6-9a37cf1f41bf",
   "metadata": {
    "jp-MarkdownHeadingCollapsed": true
   },
   "source": [
    "### (ii) \n",
    "The variable re78 is earnings from 1978, measured in thousands of 1982 dollars. Find the averages of re78 for the sample of men receiving job training and the sample not receiving job training. Is the difference economically large?"
   ]
  },
  {
   "cell_type": "code",
   "execution_count": 235,
   "id": "2eacf181-925c-4262-a737-733b0e6ba24f",
   "metadata": {},
   "outputs": [
    {
     "name": "stdout",
     "output_type": "stream",
     "text": [
      "\n",
      "The averages of re78 for the sample of men receiving job training and the sample not receiving job training are $6.35 and $4.55, respectively.\n",
      "\n",
      "The difference between 2 samples is $1.80.\n"
     ]
    }
   ],
   "source": [
    "re78_data = jtrain2_data.copy()\n",
    "re78_jobtrain = re78_data[re78_data['train'] == 1]\n",
    "re78_no_jobtrain = re78_data[re78_data['train'] == 0]\n",
    "\n",
    "avg_earnings_jobtrain = np.round(re78_jobtrain[['re78']].mean(), 2)\n",
    "avg_earnings_no_jobtrain = np.round(re78_no_jobtrain[['re78']].mean(), 2)\n",
    "\n",
    "diff_avg_earnings = avg_earnings_jobtrain - avg_earnings_no_jobtrain\n",
    "\n",
    "print(f\"\"\"\n",
    "The averages of re78 for the sample of men receiving job training and the sample not receiving job training are ${avg_earnings_jobtrain.item()} and ${avg_earnings_no_jobtrain.item()}, respectively.\n",
    "\n",
    "The difference between 2 samples is $1.80.\"\"\")"
   ]
  },
  {
   "cell_type": "markdown",
   "id": "ffceb41b-fd4c-4d60-8b09-c2bd4c24e746",
   "metadata": {},
   "source": [
    "### (iii) \n",
    "The variable unem78 is an indicator of whether a man is unemployed or not in 1978. What fraction of the men who received job training are unemployed? What about for men who did not receive job training? Comment on the difference."
   ]
  },
  {
   "cell_type": "code",
   "execution_count": 267,
   "id": "dbf9f74c-089f-487c-a598-a214b8d51be9",
   "metadata": {},
   "outputs": [
    {
     "name": "stdout",
     "output_type": "stream",
     "text": [
      "\n",
      "The fraction of the men who received job training are unemployed is 45/445.\n",
      "While, for men who did not receive job training is 92/445.\n",
      "\n",
      "The difference between is 10.56%.\n",
      "\n"
     ]
    }
   ],
   "source": [
    "unem78_data = jtrain2_data.copy()\n",
    "unem_job_train = unem78_data[(unem78_data['unem78'] == 1) & (unem78_data['train'] == 1)]\n",
    "unem_no_job_train = unem78_data[(unem78_data['unem78'] == 1) & (unem78_data['train'] == 0)]\n",
    "\n",
    "unem_job_train_count = unem_job_train['unem78'].count()\n",
    "unem_no_job_train_count = unem_no_job_train['unem78'].count()\n",
    "\n",
    "print(f\"\"\"\n",
    "The fraction of the men who received job training are unemployed is {unem_job_train_count.item()}/{total_men_count}.\n",
    "While, for men who did not receive job training is {unem_no_job_train_count.item()}/{total_men_count}.\n",
    "\n",
    "The difference between is {np.abs(np.round(((unem_job_train_count.item()/total_men_count)-(unem_no_job_train_count.item()/total_men_count))*100, 2))}%.\n",
    "\n",
    "\"\"\")"
   ]
  },
  {
   "cell_type": "code",
   "execution_count": null,
   "id": "9bb17124-08c5-47c1-9861-065748f175f5",
   "metadata": {},
   "outputs": [],
   "source": []
  },
  {
   "cell_type": "markdown",
   "id": "b0976f31-1408-467e-bc76-3ad566dc88dc",
   "metadata": {},
   "source": [
    "### (iv) \n",
    "From parts (ii) and (iii), does it appear that the job training program was effective? What would make our conclusions more convincing?"
   ]
  },
  {
   "cell_type": "code",
   "execution_count": null,
   "id": "fc77f7c7-72bb-435b-8259-4e51e90b143f",
   "metadata": {},
   "outputs": [],
   "source": []
  }
 ],
 "metadata": {
  "kernelspec": {
   "display_name": "Python 3 (ipykernel)",
   "language": "python",
   "name": "python3"
  },
  "language_info": {
   "codemirror_mode": {
    "name": "ipython",
    "version": 3
   },
   "file_extension": ".py",
   "mimetype": "text/x-python",
   "name": "python",
   "nbconvert_exporter": "python",
   "pygments_lexer": "ipython3",
   "version": "3.12.3"
  }
 },
 "nbformat": 4,
 "nbformat_minor": 5
}
